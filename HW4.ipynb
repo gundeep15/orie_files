{
 "cells": [
  {
   "cell_type": "markdown",
   "metadata": {
    "id": "yEYDm_ICb4GC"
   },
   "source": [
    "# ORIE 4580/5580/5581 Assignment 4\n",
    "\n",
    "#### Students: Gundeep Singh (gs722)\n",
    "\n",
    "### Github link: [example Github link](https://github.com/SidBanerjee/ORIE4580-Simulation/blob/main/Notebooks/Unit0-Intro_Demos.ipynb)\n"
   ]
  },
  {
   "cell_type": "markdown",
   "metadata": {
    "id": "l3G_wUFRg9v6"
   },
   "source": [
    "### Instructions\n",
    "\n",
    "\n",
    "* Due Friday September 29, at 11.59am on Gradescope.\n",
    "* Assignment .ipynb files available for download on [Canvas](https://canvas.cornell.edu/courses/56826#:~:text=Assignments-,Assignments,-Assignments%20Module%20publish). Do all your work in provided notebook (text answers typeset in markdown; show all required code and generate plots inline), and then generate and submit a pdf.\n",
    "* Ideally do assignments in groups of 2, and submit a single pdf with both names\n",
    "* Please show your work and clearly mark your answers.\n",
    "* You can use any code fragments given in class, found online (for example, on StackOverflow), or generated via Bard or ChatGPT (you are encouraged to use these for first drafts) **with proper referencing**. You can also discuss with others (again, please reference them if you do so); but you must write your final answers on your own as a team.\n",
    "\n",
    "\n",
    "\n",
    "### Suggested reading\n",
    "\n",
    "Chapters 5 (sections 5.1, 5.2 and 5.3) and 6, as well as chapter 11 (to revise again what we discussed in class about confidence intervals) of [Simulation by Ross](https://catalog.library.cornell.edu/catalog/12745977)."
   ]
  },
  {
   "cell_type": "code",
   "execution_count": 425,
   "metadata": {},
   "outputs": [],
   "source": [
    "#importing necessary packages\n",
    "import numpy as np\n",
    "import matplotlib.pyplot as plt\n",
    "import scipy.stats\n",
    "import math\n",
    "%matplotlib inline\n",
    "import numpy.matlib\n",
    "from scipy import special\n",
    "from scipy import linalg\n"
   ]
  },
  {
   "cell_type": "markdown",
   "metadata": {
    "id": "5AMJpIgg0AUP"
   },
   "source": [
    "\n",
    "\n",
    "\n",
    "---\n",
    "---\n",
    "\n",
    "\n",
    "# Question 1: Multivariate normals, and some finance (20 points)\n",
    "\n",
    "\n",
    "Assume the following means and covariance matrix for the net annual returns (annual returns after accounting for inflation) on three investments:\n",
    "\n",
    "$$\\boldsymbol{\\mu}=\n",
    "\\begin{bmatrix}\n",
    "    \\mu_{\\text{U.S. stocks}}\\\\\n",
    "    \\mu_{\\text{U.S. bonds}}\\\\\n",
    "    \\mu_{\\text{EM bonds}}\n",
    "\\end{bmatrix}=\n",
    "\\begin{bmatrix}\n",
    "    0.14 \\\\\n",
    "    0.07 \\\\\n",
    "    0.16\\\\\n",
    "\\end{bmatrix},$$\n",
    "\n",
    "Moreover, we have $\\sigma^2_{\\text{U.S. stocks}}=0.0625, \\sigma^2_{\\text{U.S. bonds}}=0.01$ and $\\sigma^2_{\\text{EM bonds}}=0.09$. Assuming all three instruments are independent of each other, what is the probability that all three financial products simultaneously yield a positive return?\n"
   ]
  },
  {
   "cell_type": "markdown",
   "metadata": {
    "id": "FdZFPY8J00Nz"
   },
   "source": [
    "___\n",
    "## Ans.\n",
    "\n",
    "$f(x) = \\frac{e^{-\\frac{(x-\\mu)^2}{2\\sigma^2}}}{\\sqrt{2\\pi\\sigma^2}}$\n",
    "\n",
    "For US Stokes, $P_1(x>0) = \\int_{0}^{\\inf} dx f(x) = 0.71226 $\n",
    "\n",
    "For US Bonds, $P_2(x>0) = \\int_{0}^{\\inf} dx f(x) =  0.758036 $\n",
    "\n",
    "For EM Bonds, $P_3(x>0) = \\int_{0}^{\\inf} dx f(x) =  0.703099  $\n",
    "\n",
    "Prob that all three financial products simultaneously yield a positive return:\n",
    "$P= P_1*P_2*P_3 = 0.379616 $\n"
   ]
  },
  {
   "cell_type": "markdown",
   "metadata": {
    "id": "kHPnqRj105lL"
   },
   "source": [
    "___\n",
    "\n",
    "**(b)** Next, assume that the assets are not independent, but rather, have covariance matrix\n",
    "$$\\boldsymbol{\\Sigma}=\n",
    "\\begin{bmatrix}\n",
    "    0.0625 & -0.01 & 0.0375 \\\\\n",
    "    -0.01 & 0.01 & -0.015 \\\\\n",
    "    0.0375 & -0.015 & 0.09\n",
    "\\end{bmatrix}.$$\n",
    "\n",
    "Using simulation, estimate the probability that all three financial products simultaneously yield a positive return.\n",
    "For the purposes of this problem, you are **not allowed** to use the Python function ${\\tt numpy.random.multivariate\\_normal}$, but rather, should generate *independent* normal rvs, and then apply the method(s) discussed in class.\n",
    "In particular, you can compute the Cholesky decomposition of the covariance matrix using the Python function ${\\tt scipy.linalg.cholesky(sigma, lower=True)}$.\n",
    "___"
   ]
  },
  {
   "cell_type": "markdown",
   "metadata": {
    "id": "o-b5c59b2CV-"
   },
   "source": [
    "## Ans.\n",
    "\n"
   ]
  },
  {
   "cell_type": "code",
   "execution_count": 427,
   "metadata": {},
   "outputs": [
    {
     "name": "stdout",
     "output_type": "stream",
     "text": [
      "Probability that all three products simulatneously yield a positive return = 0.3699787+/-0.00031703724134555546\n"
     ]
    }
   ],
   "source": [
    "mean = [0.14, 0.07, 0.16]\n",
    "cov = [[0.0625 , -0.01, 0.0375],\n",
    "       [-0.01, 0.01, -0.015],\n",
    "       [0.0375, -0.015, 0.09]]\n",
    "\n",
    "N = 100000\n",
    "L_1 = linalg.cholesky(cov, lower=True)\n",
    "trialnumber=100\n",
    "\n",
    "proballthreepos = np.zeros(trialnumber)\n",
    "for t in range(trialnumber):\n",
    "    X = np.random.normal(size =N),np.random.normal(size =N),np.random.normal(size =N);\n",
    "    Y_1 = np.dot(L_1,X)+np.matlib.repmat(mean,N,1).T\n",
    "    proballthreepos[t] = np.sum((Y_1[0]>0) & (Y_1[1]>0) & (Y_1[2]>0))/N\n",
    "\n",
    "mean_pos_diff_trials = np.mean(proballthreepos)\n",
    "ci_pos_diff_trials = 2*np.std(proballthreepos)/np.sqrt(trialnumber)  \n",
    "\n",
    "#fig = plt.figure()\n",
    "#ax = fig.add_subplot(projection='3d')\n",
    "#ax.scatter(Y_1[0],Y_1[1],Y_1[2], s=6)\n",
    "#ax.set_title(r\"Samples of $Y=\\mu+LX$, $L=$Cholesky($\\Sigma$)\")\n",
    "\n",
    "print('Probability that all three products simulatneously yield a positive return = ' +repr(mean_pos_diff_trials) + '+/-' +repr(ci_pos_diff_trials))"
   ]
  },
  {
   "cell_type": "markdown",
   "metadata": {
    "id": "YX0Mw-EVb4GE"
   },
   "source": [
    "___\n",
    "___\n",
    "\n",
    "# Question 2: Covariance and copulas (30 points)\n",
    "\n",
    "In general (i.e., apart from multivariate normals), *there is no closed form formula for generating rvs with given marginals and given covariance matrix*. However, a popular heuristic is the so-called *Gaussian copula trick*, which is widely used in finance. In this question, we will try and get a sense of how we can generate correlated uniforms, and how the Gaussian copula trick works."
   ]
  },
  {
   "cell_type": "markdown",
   "metadata": {
    "id": "Yjy3dHqpb4GF"
   },
   "source": [
    "___\n",
    "\n",
    "**(a)** We will first try and make a method for generating two correlated uniform random variables $V_1$, $V_2$ with mean $\\mathbb{E}[V_1]=\\mathbb{E}[V_2]=0$, variance $Var(V_1)=Var(V_2)=1$, and covariance $Cov( V_1, V_2 ) = \\sigma_{12}$ (for some given $\\sigma_{12}\\geq 0$).\n",
    "\n",
    "For what $\\alpha,\\beta\\in\\mathbb{R}$ does a uniform distribution on $[\\alpha,\\beta]$ have mean $0$ and variance $1$.\n",
    "___\n"
   ]
  },
  {
   "cell_type": "markdown",
   "metadata": {
    "id": "wOQnI769b4GF"
   },
   "source": [
    "## Ans.\n",
    "\n",
    "$[\\alpha,\\beta] = [-\\frac{\\sqrt{12}}{2},\\frac{\\sqrt{12}}{2} ]$"
   ]
  },
  {
   "cell_type": "code",
   "execution_count": 166,
   "metadata": {},
   "outputs": [
    {
     "data": {
      "text/plain": [
       "(0.0015643679452286704, 1.0005953828761613)"
      ]
     },
     "execution_count": 166,
     "metadata": {},
     "output_type": "execute_result"
    }
   ],
   "source": [
    "u=np.random.rand(1000000)\n",
    "a=-np.sqrt(12)/2\n",
    "b=np.sqrt(12)/2\n",
    "y=u*(b-a) +a\n",
    "np.mean(y),np.var(y)"
   ]
  },
  {
   "cell_type": "code",
   "execution_count": 167,
   "metadata": {},
   "outputs": [],
   "source": [
    "u=np.random.rand(1000000)\n",
    "x1 = u*(b-a) +a\n",
    "u=np.random.rand(1000000)\n",
    "x2 = u*(b-a) +a"
   ]
  },
  {
   "cell_type": "code",
   "execution_count": 168,
   "metadata": {},
   "outputs": [
    {
     "data": {
      "text/plain": [
       "-0.00012087444914987309"
      ]
     },
     "execution_count": 168,
     "metadata": {},
     "output_type": "execute_result"
    }
   ],
   "source": [
    "np.mean(x1*x2)"
   ]
  },
  {
   "cell_type": "markdown",
   "metadata": {
    "id": "DRpHC9hbb4GF"
   },
   "source": [
    "___\n",
    "\n",
    "**(b)** Next, generate rvs $X_1,X_2\\sim Uniform[\\alpha, \\beta]$ i.i.d (with $\\alpha,\\beta$ from previous part), and also sample $B\\sim Bernoulli(p)$. Define:\n",
    "\\begin{align*}\n",
    "\tV_1 = X_1 \\qquad,\\qquad\n",
    "\tV_2 = (1-B)X_1+BX_2 = \\begin{cases} X_1 & \\text{ if $B = 0$} \\\\ X_2 & \\text{ if $B = 1$} \\end{cases}\n",
    "\t\\end{align*}\n",
    "\n",
    "What is $\\mathbb{E}[V_2]$ and $Var(V_2)$?\n",
    "___"
   ]
  },
  {
   "cell_type": "markdown",
   "metadata": {
    "id": "1khe5-56b4GF"
   },
   "source": [
    "## Ans.\n",
    "$\\mathbb{E}[V_2] = (1-p)\\mathbb{E}[X1] + p\\mathbb{E}[X2]  $\n",
    "\n",
    "$\\mathbb{E}[V_2] = 0*(1-p) + 0*p = 0 $\n",
    "\n",
    "$Var(V_2) = \\mathbb{E}[V_2^2] - (\\mathbb{E}[V_2])^2 = \\mathbb{E}[V_2^2] $\n",
    "\n",
    "$Var(V_2) = (1-p) \\mathbb{E}[X_1^2] + p \\mathbb{E}[X_2^2] = 1$\n",
    "\n",
    "Therefore, $\\mathbb{E}[V_2] = 0 $, $Var(V_2) =1$"
   ]
  },
  {
   "cell_type": "markdown",
   "metadata": {
    "id": "RTfG42xCb4GF"
   },
   "source": [
    "___\n",
    "**(c)** For what value of $p$ do we get $Cov(V_1, V_2 )=\\sigma_{12}$ (for $\\sigma_{12}\\geq 0$)?\n",
    "___"
   ]
  },
  {
   "cell_type": "markdown",
   "metadata": {
    "id": "935NIM2wb4GG"
   },
   "source": [
    "## Ans.\n",
    "$Cov(V_1, V_2) = \\mathbb{E}[V_1 V_2] -\\mathbb{E}[V_1]\\mathbb{E}[V_2] $\n",
    "\n",
    "$Cov(V_1, V_2) = \\mathbb{E}[V_1 V_2] $\n",
    "\n",
    "$Cov(V_1, V_2) = (1-p) \\mathbb{E}[X_1^2] + p \\mathbb{E}[X_1 X_2] $\n",
    "\n",
    "Since, $X_1$ and $X_2$ are independent r.v., $\\mathbb{E}[X_1 X_2]=0$. \n",
    "\n",
    "$Cov(V_1, V_2) = (1-p)  $\n",
    "\n",
    "Therefore, $ p = 1- \\sigma_{12}$ gives the desired the correlation"
   ]
  },
  {
   "cell_type": "markdown",
   "metadata": {
    "id": "PaOyIOB-b4GG"
   },
   "source": [
    "___\n",
    "\n",
    "**(d)** Create a function to generate two correlated uniform random variables $V_1$, $V_2$ such that $\\mathbb{E}[V_1]=\\mathbb{E}[V_2]=0,Var(V_1)=Var(V_2)=1$ and $Cov( U_1, U_2 ) = \\sigma_{12}$. Use this to show a scatter plot of $(V_1,V_2)$ for correlation values $\\sigma_{12}=0,0.25,0.5,0.75$ and $1$.\n",
    "\n",
    "___"
   ]
  },
  {
   "cell_type": "markdown",
   "metadata": {
    "id": "zCTJkhsS24_-"
   },
   "source": [
    "## Ans."
   ]
  },
  {
   "cell_type": "code",
   "execution_count": 169,
   "metadata": {
    "id": "cKKYGfgSb4GG"
   },
   "outputs": [],
   "source": [
    "def correlateddist(N,sig12):\n",
    "    \"\"\"\n",
    "    Generate two correlated uniform random variables V_1, V_2 such that \n",
    "    E[V_1]=E[V_2]=0, Var(V_1)=Var(V_2)=1 \n",
    "\n",
    "    Parameters:\n",
    "    N (int): Number of samples needed for each\n",
    "    sig12 (between [0,1]): Correlation value\n",
    "\n",
    "    Returns:\n",
    "    V1, V2 = generated random samples with the given correlated value\n",
    "    \"\"\"\n",
    "    a=-np.sqrt(12)/2\n",
    "    b=np.sqrt(12)/2\n",
    "    u=np.random.rand(N)\n",
    "    x1 = u*(b-a) +a\n",
    "    u=np.random.rand(N)\n",
    "    x2 = u*(b-a) +a\n",
    "    p=1-sig12\n",
    "    V1 =x1\n",
    "    u=np.random.rand(N)\n",
    "    V2 = np.zeros(N)\n",
    "    V2[u<=p] =  x2[u<=p] # select x2 w prob p\n",
    "    V2[u>p]  =  x1[u>p]  # select x1 w prob (1-p)\n",
    "    \n",
    "    return V1,V2\n",
    "    "
   ]
  },
  {
   "cell_type": "code",
   "execution_count": 170,
   "metadata": {},
   "outputs": [],
   "source": [
    "N=100000\n",
    "sig12=0\n",
    "V = correlateddist(N,0.4)"
   ]
  },
  {
   "cell_type": "code",
   "execution_count": 171,
   "metadata": {},
   "outputs": [
    {
     "data": {
      "text/plain": [
       "Text(0.5, 1.0, 'Scatter plot with $\\\\sigma_{12}=$1')"
      ]
     },
     "execution_count": 171,
     "metadata": {},
     "output_type": "execute_result"
    },
    {
     "data": {
      "image/png": "[encoded data removed]",
      "text/plain": [
       "<Figure size 864x864 with 6 Axes>"
      ]
     },
     "metadata": {
      "needs_background": "light"
     },
     "output_type": "display_data"
    }
   ],
   "source": [
    "cmap=plt.get_cmap('Set3')\n",
    "fig, axes = plt.subplots(3, 2, figsize=(12,12))\n",
    "\n",
    "N=100000\n",
    "sig12=0\n",
    "V0= correlateddist(N,sig12)\n",
    "axes[0,0].scatter(V0[0],V0[1],s=6,color=cmap(2)); axes[0,0].axis('equal')\n",
    "axes[0,0].set_title(r\"Scatter plot with $\\sigma_{12}=$\"+str(sig12))\n",
    "\n",
    "sig12=0.25\n",
    "V025 = correlateddist(N,sig12)\n",
    "axes[0,1].scatter(V025[0],V025[1],s=6,color=cmap(3)); axes[0,1].axis('equal')\n",
    "axes[0,1].set_title(r\"Scatter plot with $\\sigma_{12}=$\"+str(sig12))\n",
    "\n",
    "sig12=0.5\n",
    "V05 = correlateddist(N,sig12)\n",
    "axes[1,0].scatter(V05[0],V05[1],s=6,color=cmap(4)); axes[1,0].axis('equal')\n",
    "axes[1,0].set_title(r\"Scatter plot with $\\sigma_{12}=$\"+str(sig12))\n",
    "\n",
    "sig12=0.75\n",
    "V075 = correlateddist(N,sig12)\n",
    "axes[1,1].scatter(V075[0],V075[1],s=6,color=cmap(5)); axes[1,1].axis('equal')\n",
    "axes[1,1].set_title(r\"Scatter plot with $\\sigma_{12}=$\"+str(sig12))\n",
    "\n",
    "sig12=1\n",
    "V1 = correlateddist(N,sig12)\n",
    "axes[2,0].scatter(V1[0],V1[1],s=6,color=cmap(6)); axes[2,0].axis('equal')\n",
    "axes[2,0].set_title(r\"Scatter plot with $\\sigma_{12}=$\"+str(sig12))"
   ]
  },
  {
   "cell_type": "code",
   "execution_count": 172,
   "metadata": {},
   "outputs": [
    {
     "data": {
      "text/plain": [
       "(-0.0014136362213445484, 1.0007211228874227, 0.7494297475668645)"
      ]
     },
     "execution_count": 172,
     "metadata": {},
     "output_type": "execute_result"
    }
   ],
   "source": [
    "np.mean(V075[0]),np.var(V075[0]),np.mean(V075[0]*V075[1])"
   ]
  },
  {
   "cell_type": "markdown",
   "metadata": {
    "id": "8p8hETbtb4GG"
   },
   "source": [
    "___\n",
    "\n",
    "**(e)** Using the above function, compute $\\mathbb{P}[V_1\\leq 0,V_2\\leq 0]$ for the case when $\\sigma_{12}=0.5$ (in a financial application, this can correspond to *both* $V_1$ and $V_2$ 'defaulting').\n",
    "___"
   ]
  },
  {
   "cell_type": "markdown",
   "metadata": {
    "id": "sN9OODMa26v1"
   },
   "source": [
    "## Ans."
   ]
  },
  {
   "cell_type": "code",
   "execution_count": 179,
   "metadata": {
    "id": "KEs9PV9vb4GG"
   },
   "outputs": [
    {
     "name": "stdout",
     "output_type": "stream",
     "text": [
      "Probability that both V1 and V2 default = 0.37403\n"
     ]
    }
   ],
   "source": [
    "N=100000\n",
    "sig12=0.5\n",
    "V05 = correlateddist(N,sig12)\n",
    "print('Probability that both V1 and V2 default = ' +repr(np.sum((V05[0]<0) & (V05[1]<0)) /N))"
   ]
  },
  {
   "cell_type": "markdown",
   "metadata": {
    "id": "uwV_OFX7b4GH"
   },
   "source": [
    "___\n",
    "\n",
    "**(f)** The Gaussian copula trick is based on first generating a multivariate normal vector with given covariance matrix $\\Sigma$, and then using inversion to convert it to a vector of uniform rvs, which can then used to generate the desired rvs. We now demonstrate this in the above setting.\n",
    "\n",
    "Let $\\phi(\\cdot)$ denote the 1-d normal cdf. Generate $(Z_1,Z_2)$ as multivariate normals with covariance\n",
    "$\\Sigma =\\begin{pmatrix}\n",
    "\t\t1 & 0.3 \\\\\n",
    "\t\t0.3 & 1\n",
    "\t\\end{pmatrix}$,\n",
    "and define $W_1 = \\alpha + (\\beta-\\alpha)\\phi(Z_1)$ and $W_2 = \\alpha + (\\beta-\\alpha)\\phi(Z_2)$.\n",
    "\n",
    "Argue $W_1$, $W_2$ are uniform on $[\\alpha,\\beta]$ (and hence $\\mathbb{E}[W_1]=\\mathbb{E}[W_2]=0,Var(W_1)=Var(W_2)=1$). Next, for $\\sigma_{12}=0.5$ and $\\alpha,\\beta$ as above, write a function to generate $W_1,W_2$ as described, and use these to plot the scatter plot, and compute $\\mathbb{P}[W_1\\geq 0,W_2\\geq 0]$.\n",
    "\n",
    "___"
   ]
  },
  {
   "cell_type": "markdown",
   "metadata": {
    "id": "HJSveGTob4GH"
   },
   "source": [
    "## Ans.\n"
   ]
  },
  {
   "cell_type": "code",
   "execution_count": 428,
   "metadata": {},
   "outputs": [
    {
     "data": {
      "text/plain": [
       "(-0.0008883571221469168, 0.9970494537127439)"
      ]
     },
     "execution_count": 428,
     "metadata": {},
     "output_type": "execute_result"
    }
   ],
   "source": [
    "N=10000\n",
    "mean =[0,0];\n",
    "cov = [[1,0.3],\n",
    "       [0.3,1]]\n",
    "Z1 , Z2 = np.random.multivariate_normal(mean, cov, N).T\n",
    "\n",
    "u = (1/2*(1 + special.erf(-Z1/np.sqrt(2))))\n",
    "a=-np.sqrt(12)/2\n",
    "b=np.sqrt(12)/2\n",
    "w_i=u*(b-a) +a\n",
    "np.mean(w_i),np.var(w_i)"
   ]
  },
  {
   "cell_type": "markdown",
   "metadata": {},
   "source": [
    "Hence, $W_1$, $W_2$ are uniform on $[\\alpha,\\beta] = [-\\frac{\\sqrt{12}}{2},\\frac{\\sqrt{12}}{2}] $ \n",
    "\n",
    "since, $\\mathbb{E}[W_i]=0$ and $Var(W_i)=1$)"
   ]
  },
  {
   "cell_type": "code",
   "execution_count": 177,
   "metadata": {},
   "outputs": [
    {
     "name": "stdout",
     "output_type": "stream",
     "text": [
      "Probability that neither V1 nor V2 default = 0.3313\n"
     ]
    },
    {
     "data": {
      "image/png": "[encoded data removed]",
      "text/plain": [
       "<Figure size 432x288 with 1 Axes>"
      ]
     },
     "metadata": {
      "needs_background": "light"
     },
     "output_type": "display_data"
    }
   ],
   "source": [
    "def gausscopula(N, sig12):\n",
    "    mean =[0,0];\n",
    "    cov = [[1,sig12],\n",
    "           [sig12,1]]\n",
    "    Z1 , Z2 = np.random.multivariate_normal(mean, cov, N).T\n",
    "\n",
    "    u = (1/2*(1 + special.erf(-Z1/np.sqrt(2))))\n",
    "    a=-np.sqrt(12)/2\n",
    "    b=np.sqrt(12)/2\n",
    "    W1=u*(b-a) +a\n",
    "    \n",
    "    u = (1/2*(1 + special.erf(-Z2/np.sqrt(2))))\n",
    "    W2=u*(b-a) +a\n",
    "    return W1,W2\n",
    "\n",
    "N=100000\n",
    "sig12=0.5\n",
    "W12 = gausscopula(N,sig12)\n",
    "\n",
    "plt.scatter(W12[0],W12[1],s=6,color=cmap(4)); \n",
    "plt.title(r\"Scatter plot using Gaussian Copula with $\\sigma_{12}=$\"+str(sig12))\n",
    "\n",
    "print('Probability that neither V1 nor V2 default = ' +repr(np.sum((W12[0]>=0) & (W12[1]>=0)) /N))"
   ]
  },
  {
   "cell_type": "code",
   "execution_count": 178,
   "metadata": {},
   "outputs": [
    {
     "name": "stdout",
     "output_type": "stream",
     "text": [
      "Probability that both V1 and V2 default = 0.33483\n"
     ]
    }
   ],
   "source": [
    "print('Probability that both V1 and V2 default = ' +repr(np.sum((W12[0]<0) & (W12[1]<0)) /N))"
   ]
  },
  {
   "cell_type": "markdown",
   "metadata": {
    "id": "Lh-UW13FuhSQ"
   },
   "source": [
    "___\n",
    "___\n",
    "\n",
    "# Question 3: Generating random samples in some given set (20 pts)"
   ]
  },
  {
   "cell_type": "markdown",
   "metadata": {
    "id": "yc0A7WxsuyEy"
   },
   "source": [
    "___\n",
    "\n",
    "**(a)** We want to sample points which are uniformly distributed in the set  $\\mathcal{S} = \\{(x,,y)| x\\in \\mathbb{R}, y \\in [0,e^{-x^2/2}]\\}$ (i.e., between the lines $y=0$ and $y=e^{-x^2/2}$). Generate 1000 independent samples $(X_i,Y_i)$, and plot them using a scatterplot, along with the lines $y=0$ and $y=e^{-x^2/2}$.\n",
    "\n",
    "(Hint: Try to 'reverse' what we do in Acceptance-Rejection).\n",
    "___"
   ]
  },
  {
   "cell_type": "markdown",
   "metadata": {
    "id": "EGsUT8JvwI-7"
   },
   "source": [
    "## Ans."
   ]
  },
  {
   "cell_type": "code",
   "execution_count": 234,
   "metadata": {},
   "outputs": [
    {
     "data": {
      "image/png": "[encoded data removed]",
      "text/plain": [
       "<Figure size 576x432 with 1 Axes>"
      ]
     },
     "metadata": {
      "needs_background": "light"
     },
     "output_type": "display_data"
    }
   ],
   "source": [
    "n=1000\n",
    "x_val = np.random.normal(0,1,n)\n",
    "y_val = np.random.rand(n)*np.exp(-x_val**2/2)\n",
    "# Plot the samples and the lines y=0 and y=e^(-x^2/2)\n",
    "plt.figure(figsize=(8, 6))\n",
    "plt.scatter(x_val, y_val, marker='o', s=10, label='Samples')\n",
    "x_max =max(abs(x_val))\n",
    "x_values = np.linspace(-x_max, x_max, 100)\n",
    "y_values = np.exp(-x_values**2/2)\n",
    "plt.plot(x_values, y_values, 'r-', label='y = e^(-x^2/2)')\n",
    "plt.axhline(0, color='k', linestyle='--', label='y = 0')\n",
    "plt.xlabel('x')\n",
    "plt.ylabel('y')\n",
    "plt.title('Scatterplot of Samples in S')\n",
    "plt.legend()\n",
    "plt.grid(True)\n",
    "plt.show()\n"
   ]
  },
  {
   "cell_type": "markdown",
   "metadata": {
    "id": "QhBwTPrLwKhV"
   },
   "source": [
    "___\n",
    "**(b)** Next, suppose we want to sample points which are uniformly distributed on the set $\\{(x,y)\\in\\mathbb{R}^2|x^2+y^2 = 1\\}$ (i.e., on the *circumference* of the unit circle). One way to do so may be to generate points $(U_i,V_i)$ uniformly in $[-1,1]^2$ (like in the first homework), and then *project* them to the circle, i.e., take $(X_i,Y_i) = \\left(\\frac{U_i}{\\sqrt{U_i^2+V_i^2}},\\frac{V_i}{\\sqrt{U_i^2+V_i^2}}\\right)$. Generate $1000$ points in this way, and plot them using a scatter plot.\n",
    "\n",
    "Are these uniformly distributed on the circumference of the circle? Try checking the histogram of their angles (i.e., the histogram of $\\theta_i = \\tan^{-1}(Y_i/X_i)$).\n",
    "___"
   ]
  },
  {
   "cell_type": "code",
   "execution_count": 254,
   "metadata": {},
   "outputs": [
    {
     "data": {
      "text/plain": [
       "<matplotlib.collections.PathCollection at 0x1ca54c925e0>"
      ]
     },
     "execution_count": 254,
     "metadata": {},
     "output_type": "execute_result"
    },
    {
     "data": {
      "image/png": "[encoded data removed]",
      "text/plain": [
       "<Figure size 432x432 with 1 Axes>"
      ]
     },
     "metadata": {
      "needs_background": "light"
     },
     "output_type": "display_data"
    }
   ],
   "source": [
    "n=1000\n",
    "u = 2*np.random.rand(n)-1\n",
    "v= 2*np.random.rand(n)-1\n",
    "\n",
    "x = u/np.sqrt(u**2+v**2)\n",
    "y = v/np.sqrt(u**2+v**2)\n",
    "\n",
    "plt.figure(figsize=(6, 6))\n",
    "plt.scatter(x, y, marker='o', s=10, label='Samples')\n"
   ]
  },
  {
   "cell_type": "code",
   "execution_count": 255,
   "metadata": {},
   "outputs": [
    {
     "data": {
      "image/png": "[encoded data removed]",
      "text/plain": [
       "<Figure size 432x288 with 1 Axes>"
      ]
     },
     "metadata": {
      "needs_background": "light"
     },
     "output_type": "display_data"
    }
   ],
   "source": [
    "plt.hist(np.arctan(y/x), bins=10, density=True);"
   ]
  },
  {
   "cell_type": "markdown",
   "metadata": {},
   "source": [
    "^ NOT uniformly scattered!"
   ]
  },
  {
   "cell_type": "markdown",
   "metadata": {
    "id": "_u8ikVrMx664"
   },
   "source": [
    "## Ans."
   ]
  },
  {
   "cell_type": "markdown",
   "metadata": {
    "id": "fT4Jt0Inx99q"
   },
   "source": [
    "\n",
    "\n",
    "---\n",
    "\n",
    "**(c)** Next, generate points $(Z_i,W_i)$ as independent standard normals (i.e., $(Z_i,W_i)\\sim \\mathcal{N}(0,I_2)$, and again project them to the circle, i.e., take $(X_i,Y_i) = \\left(\\frac{Z_i}{\\sqrt{Z_i^2+W_i^2}},\\frac{W_i}{\\sqrt{Z_i^2+W_i^2}}\\right)$. Generate $1000$ points in this way, and plot them using a scatter plot.\n",
    "\n",
    "Are these uniformly distributed on the circumference of the circle? Again, check the histogram of their angles $\\theta_i$. Can you explain the difference between parts (b) and (c)?\n",
    "\n",
    "___"
   ]
  },
  {
   "cell_type": "markdown",
   "metadata": {
    "id": "g4c_Csc_ywpw"
   },
   "source": [
    "## Ans."
   ]
  },
  {
   "cell_type": "code",
   "execution_count": 250,
   "metadata": {
    "id": "NkcHgFB4yy41"
   },
   "outputs": [
    {
     "data": {
      "text/plain": [
       "<matplotlib.collections.PathCollection at 0x1ca5358d8e0>"
      ]
     },
     "execution_count": 250,
     "metadata": {},
     "output_type": "execute_result"
    },
    {
     "data": {
      "image/png": "[encoded data removed]",
      "text/plain": [
       "<Figure size 432x432 with 1 Axes>"
      ]
     },
     "metadata": {
      "needs_background": "light"
     },
     "output_type": "display_data"
    }
   ],
   "source": [
    "n=1000\n",
    "z = np.random.normal(0,1,n)\n",
    "w= np.random.normal(0,1,n)\n",
    "\n",
    "x = z/np.sqrt(z**2+w**2)\n",
    "y = w/np.sqrt(z**2+w**2)\n",
    "\n",
    "plt.figure(figsize=(6, 6))\n",
    "plt.scatter(x, y, marker='o', s=10, label='Samples')\n"
   ]
  },
  {
   "cell_type": "code",
   "execution_count": 251,
   "metadata": {},
   "outputs": [
    {
     "data": {
      "image/png": "[encoded data removed]",
      "text/plain": [
       "<Figure size 432x288 with 1 Axes>"
      ]
     },
     "metadata": {
      "needs_background": "light"
     },
     "output_type": "display_data"
    }
   ],
   "source": [
    "plt.hist(np.arctan(y/x), bins=10, density=True);"
   ]
  },
  {
   "cell_type": "markdown",
   "metadata": {},
   "source": [
    "This time we are able to generate points uniformly distributed on the circumference."
   ]
  },
  {
   "cell_type": "markdown",
   "metadata": {},
   "source": [
    "EXPLANATION: Points uniformly distributed on the circumference, We want the combined probability density $g(x,y) = f(x)*f(y)$ to be radially symmetric. \n",
    "\n",
    "In the second case (sampling from a Gaussian): $g(x,y) \\propto e^{-(x^2+y^2)} = e^{-r^2}$ is radially symmetric!\n",
    "\n",
    "However, in the first case (sampling from a Uniform): $g(x,y) \\propto x*y$, which is not spherically symmetric. In this case, there are clearly be more points along the diagonal x=y (where theta =pi/4 or ~ 0.78 radian) as observed in the histogram above!"
   ]
  },
  {
   "cell_type": "markdown",
   "metadata": {
    "id": "FJhVnfbFb4GI"
   },
   "source": [
    "___\n",
    "___\n",
    "\n",
    "# Question 4: The Inspection paradox (30 pts)\n",
    "\n",
    "Have you ever felt like you wait too long for elevators, taxis, buses, etc.? Guess what - you may be right!\n",
    "\n",
    "We are going to simulate a number of train and passenger arrivals at a station, and try to measure the time each passenger needs to wait for a train. To do this, first generate a stream of 10,000 train passengers, each of whom have an independent arrival time which is uniformly distributed over an interval of 1,000 minutes (i.e., passenger $i$ arrives at time $T_i\\sim [0,1,000]$. Sort the passengers by arrival time, and use this resulting vector for all subsequent parts."
   ]
  },
  {
   "cell_type": "code",
   "execution_count": 268,
   "metadata": {},
   "outputs": [
    {
     "data": {
      "text/plain": [
       "503.93745521600897"
      ]
     },
     "execution_count": 268,
     "metadata": {},
     "output_type": "execute_result"
    }
   ],
   "source": [
    "n=10000\n",
    "p_arrival_t = 1000*np.random.rand(n)\n",
    "p_arrival_t = np.sort(p_arrival_t)\n",
    "np.mean(p_arrival_t)"
   ]
  },
  {
   "cell_type": "markdown",
   "metadata": {
    "id": "xCLoBig-b4GI"
   },
   "source": [
    "___\n",
    "\n",
    "**(a)** Suppose trains arrive at the station deterministically every 10 minutes. Assume each train has infinite capacity, so that everyone waiting at the station when a train arrives can get on; also assume that passengers get on the train instantaneously. Estimate the expected time (with CIs) that any *randomly chosen* passenger spends waiting at the station for the next train.\n",
    "___\n"
   ]
  },
  {
   "cell_type": "markdown",
   "metadata": {
    "id": "YljDZzRgp_G8"
   },
   "source": [
    "## Ans."
   ]
  },
  {
   "cell_type": "code",
   "execution_count": 353,
   "metadata": {},
   "outputs": [],
   "source": [
    "n=10000\n",
    "\n",
    "trialnumber = 100\n",
    "mean_passenger_wait_time =np.zeros(trialnumber)\n",
    "\n",
    "for trial in range(trialnumber):\n",
    "    p_arrival_t = 1000*np.random.rand(n)\n",
    "    p_arrival_t = np.sort(p_arrival_t)\n",
    "    bins_edge = np.arange(0,1000+10,10)\n",
    "    passenger_no_on_each_train = np.histogram(p_arrival_t, bins=bins_edge)[0]\n",
    "    passenger_wait_time = np.mod(p_arrival_t,10)\n",
    "    mean_passenger_wait_time[trial] = np.mean(passenger_wait_time)\n",
    "\n",
    "\n",
    "        \n",
    "mean_wait_diff_trials = np.mean(mean_passenger_wait_time)\n",
    "ci_wait_diff_trials = 2*np.std(mean_passenger_wait_time)/np.sqrt(trialnumber)  \n"
   ]
  },
  {
   "cell_type": "code",
   "execution_count": 354,
   "metadata": {},
   "outputs": [
    {
     "name": "stdout",
     "output_type": "stream",
     "text": [
      "expected waiting time: 4.9975612229874224+/-0.00634085713765333\n"
     ]
    }
   ],
   "source": [
    "print('expected waiting time: ' + repr(mean_wait_diff_trials) + '+/-' + repr(ci_wait_diff_trials))"
   ]
  },
  {
   "cell_type": "markdown",
   "metadata": {
    "id": "HBT-fHg8b4GI"
   },
   "source": [
    "___\n",
    "**(b)** Next, assume trains arrive at the station with *inter-arrival* time (i.e., time between two trains) distributed according to an exponential distribution with mean 10 minutes. Again, use your vector of passenger arrival times to estimate the expected waiting time for a randomly chosen passenger.\n",
    "___\n"
   ]
  },
  {
   "cell_type": "markdown",
   "metadata": {
    "id": "0cfhwR8NqeWa"
   },
   "source": [
    "## Ans."
   ]
  },
  {
   "cell_type": "code",
   "execution_count": 384,
   "metadata": {
    "id": "Ehn4QDNZb4GI"
   },
   "outputs": [],
   "source": [
    "n=10000\n",
    "\n",
    "trialnumber = 1000\n",
    "mean_passenger_wait_time =np.zeros(trialnumber)\n",
    "\n",
    "for trial in range(trialnumber):\n",
    "    p_arrival_t = 1000*np.random.rand(n)\n",
    "    p_arrival_t = np.sort(p_arrival_t)\n",
    "    trial_arrival_times = np.cumsum(np.random.exponential(10,1100))\n",
    "    arrind = np.where(trial_arrival_times>1e3)[0][0]\n",
    "    bins_edge = np.concatenate((np.array([0]), trial_arrival_times[:arrind+1]))\n",
    "    passenger_no_on_each_train = np.histogram(p_arrival_t, bins=bins_edge)[0]\n",
    "    train_time_each_passenger = np.repeat(trial_arrival_times[:arrind+1],passenger_no_on_each_train)\n",
    "    waiting_time_each_passenger =  train_time_each_passenger -p_arrival_t\n",
    "    mean_passenger_wait_time[trial] = np.mean(waiting_time_each_passenger)\n",
    "\n",
    "        \n",
    "mean_wait_diff_trials = np.mean(mean_passenger_wait_time)\n",
    "ci_wait_diff_trials = 2*np.std(mean_passenger_wait_time)/np.sqrt(trialnumber)  "
   ]
  },
  {
   "cell_type": "code",
   "execution_count": 385,
   "metadata": {},
   "outputs": [
    {
     "name": "stdout",
     "output_type": "stream",
     "text": [
      "expected waiting time: 9.947261905460772+/-0.09204706275129183\n"
     ]
    }
   ],
   "source": [
    "print('expected waiting time: ' + repr(mean_wait_diff_trials) + '+/-' + repr(ci_wait_diff_trials))"
   ]
  },
  {
   "cell_type": "code",
   "execution_count": 432,
   "metadata": {},
   "outputs": [
    {
     "data": {
      "text/plain": [
       "-0.6321205588285577"
      ]
     },
     "execution_count": 432,
     "metadata": {},
     "output_type": "execute_result"
    }
   ],
   "source": [
    "(1-np.exp(1))/np.exp(1)"
   ]
  },
  {
   "cell_type": "markdown",
   "metadata": {
    "id": "okLmo5b2b4GI"
   },
   "source": [
    "___\n",
    "\n",
    "**(c)** (Hopefully, you found the answer in part (b) to be different, and surprisingly so, compared to part (a).)\n",
    "\n",
    "The train service claims that there is a train every $10$ minutes on average. In part (a), this is clearly the case, but is it so in part (b) as well? To understand this, use your data from part (b) to compute an empirical estimate with CIs for the inter-arrival times between trains.\n",
    "\n",
    "___"
   ]
  },
  {
   "cell_type": "code",
   "execution_count": 418,
   "metadata": {
    "id": "oz3YDgLpb4GI"
   },
   "outputs": [],
   "source": [
    "trialnumber = 1000\n",
    "mean_inter_arrival_times =np.zeros(trialnumber)\n",
    "\n",
    "for trial in range(trialnumber):\n",
    "    trial_arrival_times = np.cumsum(np.random.exponential(10,1100))\n",
    "    mean_inter_arrival_times[trial] = np.mean(np.diff(trial_arrival_times))\n",
    "          \n",
    "mean_inter_arrival_times_trials = np.mean(mean_inter_arrival_times)\n",
    "ci_mean_inter_arrival_times_trials = 2*np.std(mean_inter_arrival_times)/np.sqrt(trialnumber)      "
   ]
  },
  {
   "cell_type": "code",
   "execution_count": 419,
   "metadata": {},
   "outputs": [
    {
     "name": "stdout",
     "output_type": "stream",
     "text": [
      "Inter-arrival times: 10.001434633807781+/-0.018629793454163775\n"
     ]
    }
   ],
   "source": [
    "print('Inter-arrival times: ' + repr(mean_inter_arrival_times_trials) + '+/-' + repr(ci_mean_inter_arrival_times_trials))"
   ]
  },
  {
   "cell_type": "markdown",
   "metadata": {
    "id": "rVl8W5m9b4GI"
   },
   "source": [
    "___\n",
    "\n",
    "**(d)** To understand what may be happening between parts (a) and (b), use the data from the simulations in parts (a) and (b) to estimate the average inter-arrival time between trains that each passenger experiences in each case. In other words, if passenger $i$ gets on train number $n$, thn we want to define his inter-arrival time $I_i$ to be the difference $A_n~-~A_{n-1}$ where $A_n$ is the arrival time of train $n$.\n",
    "\n",
    "Compute the sample mean and CI of the interval $I_i$ for a randomly chosen passenger $i$ in each of the two settings. How are these related to the waiting time estimates you got in each part? Can you explain this?\n",
    "\n",
    "___"
   ]
  },
  {
   "cell_type": "markdown",
   "metadata": {
    "id": "rKyZ12L2srUZ"
   },
   "source": [
    "## Ans."
   ]
  },
  {
   "cell_type": "code",
   "execution_count": 409,
   "metadata": {},
   "outputs": [],
   "source": [
    "n=10000\n",
    "\n",
    "trialnumber = 1000\n",
    "mean_inter_arrival_time_each_passenger_equal =np.zeros(trialnumber)\n",
    "\n",
    "for trial in range(trialnumber):\n",
    "    p_arrival_t = 1000*np.random.rand(n)\n",
    "    p_arrival_t = np.sort(p_arrival_t)\n",
    "    bins_edge = np.arange(0,1000+10,10)\n",
    "    passenger_no_on_each_train = np.histogram(p_arrival_t, bins=bins_edge)[0]\n",
    "    passenger_wait_time = np.mod(p_arrival_t,10)\n",
    "    train_time_each_passenger = np.repeat(bins_edge[1:],passenger_no_on_each_train)\n",
    "    prev_train_time_each_passenger = np.repeat(bins_edge[:-1],passenger_no_on_each_train)\n",
    "    inter_arrival_time_each_passenger = train_time_each_passenger - prev_train_time_each_passenger\n",
    "    mean_inter_arrival_time_each_passenger_equal[trial] = np.mean(inter_arrival_time_each_passenger)\n",
    "\n",
    "mean_inter_arrival_time_diff_trials_equal = np.mean(mean_inter_arrival_time_each_passenger_equal)\n",
    "ci_inter_arrival_time_diff_trials_equal = 2*np.std(mean_inter_arrival_time_each_passenger_equal)/np.sqrt(trialnumber)  \n"
   ]
  },
  {
   "cell_type": "code",
   "execution_count": 433,
   "metadata": {
    "id": "vl7qScg0b4GI"
   },
   "outputs": [],
   "source": [
    "n=10000\n",
    "\n",
    "trialnumber = 1000\n",
    "mean_inter_arrival_time_each_passenger_exp =np.zeros(trialnumber)\n",
    "\n",
    "for trial in range(trialnumber):\n",
    "    p_arrival_t = 1000*np.random.rand(n)\n",
    "    p_arrival_t = np.sort(p_arrival_t)\n",
    "    trial_arrival_times = np.cumsum(np.random.exponential(10,1100))\n",
    "    arrind = np.where(trial_arrival_times>1e3)[0][0]\n",
    "    bins_edge = np.concatenate((np.array([0]), trial_arrival_times[:arrind+1]))\n",
    "    passenger_no_on_each_train = np.histogram(p_arrival_t, bins=bins_edge)[0]\n",
    "    train_time_each_passenger = np.repeat(trial_arrival_times[:arrind+1],passenger_no_on_each_train)\n",
    "    prev_train_time_each_passenger = np.repeat(bins_edge[:-1],passenger_no_on_each_train)\n",
    "    inter_arrival_time_each_passenger = train_time_each_passenger - prev_train_time_each_passenger\n",
    "    waiting_time_each_passenger =  train_time_each_passenger -p_arrival_t\n",
    "    mean_inter_arrival_time_each_passenger_exp[trial] = np.mean(inter_arrival_time_each_passenger)\n",
    "\n",
    "        \n",
    "mean_inter_arrival_time_diff_trials_exp = np.mean(mean_inter_arrival_time_each_passenger_exp)\n",
    "ci_inter_arrival_time_diff_trials_exp = 2*np.std(mean_inter_arrival_time_each_passenger_exp)/np.sqrt(trialnumber)  \n"
   ]
  },
  {
   "cell_type": "code",
   "execution_count": 435,
   "metadata": {},
   "outputs": [
    {
     "data": {
      "text/plain": [
       "19.580254447112775"
      ]
     },
     "execution_count": 435,
     "metadata": {},
     "output_type": "execute_result"
    }
   ],
   "source": [
    "np.mean(inter_arrival_time_each_passenger)"
   ]
  },
  {
   "cell_type": "code",
   "execution_count": 416,
   "metadata": {},
   "outputs": [
    {
     "name": "stdout",
     "output_type": "stream",
     "text": [
      "Inter-arrival Time Case A: 10.0+/-0.0\n"
     ]
    }
   ],
   "source": [
    "print('Inter-arrival Time Case A: ' + repr(mean_inter_arrival_time_diff_trials_equal) + '+/-' + repr(ci_inter_arrival_time_diff_trials_equal))"
   ]
  },
  {
   "cell_type": "code",
   "execution_count": 415,
   "metadata": {},
   "outputs": [
    {
     "name": "stdout",
     "output_type": "stream",
     "text": [
      "Inter-arrival Time Case B: 19.87657798137024+/-0.17923599533645324\n"
     ]
    }
   ],
   "source": [
    "print('Inter-arrival Time Case B: ' + repr(mean_inter_arrival_time_diff_trials_exp) + '+/-' + repr(ci_inter_arrival_time_diff_trials_exp))"
   ]
  },
  {
   "cell_type": "markdown",
   "metadata": {},
   "source": [
    "The inter-arrival time for each passenger is double the expected wait time. This makes sense as we are choosing a random uniform variable between the bounds of inter-arrival time. \n",
    "\n",
    "Explanation: \n",
    "\n",
    "Average inter-train time is 10 min for both cases (a) and (b)\n",
    "However, since the process is 'memoryless' in the case of an exponential distribution, the time it takes for the next train to arrive when a passesnger gets there follows an exponential distribution. Hence, the mean of the waiting time experienced by a passenger on average is 10 min. While in the deterministic case, the mean was 5 min. \n"
   ]
  },
  {
   "cell_type": "code",
   "execution_count": null,
   "metadata": {},
   "outputs": [],
   "source": []
  },
  {
   "cell_type": "markdown",
   "metadata": {
    "id": "adS-uJlsuEPA"
   },
   "source": [
    "**(e) (Optional for all students)** Based on your previous parts, can you come up with an explanation for what is going on?  "
   ]
  },
  {
   "cell_type": "code",
   "execution_count": null,
   "metadata": {
    "id": "D3iMUEvEuRu8"
   },
   "outputs": [],
   "source": []
  }
 ],
 "metadata": {
  "colab": {
   "provenance": []
  },
  "kernelspec": {
   "display_name": "Python 3",
   "language": "python",
   "name": "python3"
  },
  "language_info": {
   "codemirror_mode": {
    "name": "ipython",
    "version": 3
   },
   "file_extension": ".py",
   "mimetype": "text/x-python",
   "name": "python",
   "nbconvert_exporter": "python",
   "pygments_lexer": "ipython3",
   "version": "3.8.8"
  }
 },
 "nbformat": 4,
 "nbformat_minor": 4
}
