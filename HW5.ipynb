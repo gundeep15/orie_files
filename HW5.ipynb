{
 "cells": [
  {
   "cell_type": "markdown",
   "metadata": {
    "id": "yEYDm_ICb4GC"
   },
   "source": [
    "# ORIE 4580/5580/5581 Assignment 5\n",
    "\n",
    "#### Students: G. Singh (gs)\n",
    "\n",
    "### Github link: [example Github link](https://github.com/SidBanerjee/ORIE4580-Simulation/blob/main/Notebooks/Unit0-Intro_Demos.ipynb)\n"
   ]
  },
  {
   "cell_type": "markdown",
   "metadata": {
    "id": "l3G_wUFRg9v6"
   },
   "source": [
    "### Instructions\n",
    "\n",
    "\n",
    "* Due Friday, October 13, at 11.59am on Gradescope.\n",
    "* Assignment .ipynb files available for download on [Canvas](https://canvas.cornell.edu/courses/56826#:~:text=Assignments-,Assignments,-Assignments%20Module%20publish). Do all your work in provided notebook (text answers typeset in markdown; show all required code and generate plots inline), and then generate and submit a pdf.\n",
    "* Ideally do assignments in groups of 2, and submit a single pdf with both names\n",
    "* Please show your work and clearly mark your answers.\n",
    "* You can use any code fragments given in class, found online (for example, on StackOverflow), or generated via Bard or ChatGPT (you are encouraged to use these for first drafts) **with proper referencing**. You can also discuss with others (again, please reference them if you do so); but you must write your final answers on your own as a team.\n",
    "\n",
    "\n",
    "\n",
    "### Suggested reading\n",
    "\n",
    "Chapters 8 (all parts) and 9 (up to Section 9.2 for the midterm) of [Simulation by Ross](https://catalog.library.cornell.edu/catalog/12745977)."
   ]
  },
  {
   "cell_type": "code",
   "execution_count": 124,
   "metadata": {},
   "outputs": [],
   "source": [
    "import csv\n",
    "#importing necessary packages\n",
    "import numpy as np\n",
    "import matplotlib.pyplot as plt\n",
    "import scipy.stats\n",
    "import math\n",
    "%matplotlib inline\n",
    "import numpy.matlib\n",
    "from scipy import special\n",
    "from scipy import linalg\n",
    "\n",
    "import scipy.interpolate as interp\n",
    "import scipy.optimize as opt\n",
    "\n",
    "import pandas as pd"
   ]
  },
  {
   "cell_type": "markdown",
   "metadata": {
    "id": "5AMJpIgg0AUP"
   },
   "source": [
    "\n",
    "\n",
    "\n",
    "---\n",
    "---\n",
    "\n",
    "\n",
    "# Question 1: Red-Tailed Hawks! (15 points)\n",
    "\n",
    "(Dedicated to [Big Red and Arthur](https://www.youtube.com/watch?v=diIn5tc8AJo), and their amazing family!)\n",
    "\n",
    "A School of Ornithology researcher wants to estimate the number of red-tailed hawks in Ithaca. She radio tags 10 birds, and then sets up a feeding station with automatic camera.\n",
    "\n",
    "The researcher believes that each individual bird's visits to the feeder can be modeled as a *Poisson process* with some unknown rate $\\lambda$; we will talk more about the Poisson process in detail later in the semester (for a quick refresher, see Section 2.9.4 of Ross), but for this question, the main thing you need to know is that this is a process that counts a discrete number of arrivals, where the *inter-arrival* between one arrival and the next is independent and identically distributed as an Exponential$(\\lambda)$ random variable (similar to the trains in question 5b in the previous assignment).\n",
    "\n",
    "**(a)**\n",
    "Over the first five weeks, the researcher observes an average of 28.8 birds (tagged and untagged) visiting the feeder, with an average of 6 tagged birds per week. Use the method of moments to obtain an estimate for the total population."
   ]
  },
  {
   "cell_type": "markdown",
   "metadata": {
    "id": "FdZFPY8J00Nz"
   },
   "source": [
    "___\n",
    "## Ans.\n"
   ]
  },
  {
   "cell_type": "markdown",
   "metadata": {
    "id": "kHPnqRj105lL"
   },
   "source": [
    "___\n",
    "\n",
    "**(b)** Next, the researcher develops a video processing program which can identify and distinguish different individual birds from their pictures. Using this, over the next week, she observes 20 unique birds visiting the feeding station, out of which 4 are tagged. What is the MLE for the size of the hawk population in Ithaca?\n",
    "\n",
    "___"
   ]
  },
  {
   "cell_type": "markdown",
   "metadata": {
    "id": "o-b5c59b2CV-"
   },
   "source": [
    "## Ans.\n",
    "\n"
   ]
  },
  {
   "cell_type": "code",
   "execution_count": null,
   "metadata": {
    "id": "mT-3ogKx2Hzl"
   },
   "outputs": [],
   "source": []
  },
  {
   "cell_type": "markdown",
   "metadata": {
    "id": "YX0Mw-EVb4GE"
   },
   "source": [
    "___\n",
    "___\n",
    "\n",
    "# Question 2: Soup for Lunch? (15 points)\n",
    "\n",
    "The folks at the [Temple of Zeus](https://as.cornell.edu/about/temple-of-zeus) have the best soup offerings at Cornell -- however, by the time you are done with Simulation, they often run out of soup. To remedy this, you want to try and understand the demand for soup, so that you can suggest how much they should make. You decide to model the total demand $N$ for soups each day as a geometric random variable with parameter $p$ (i.e., $P(N = k) = (1-p)^kp$, $k \\ge 0$).\n",
    "\n",
    "The Temple of Zeus manager gives you data for the number of lunches sold in the last $100$ days. One problem though is that the data is *censored*: the staff prepared soup for at most $40$ servings each day, and as a result, the number of sales each day is between 0 and 40. As a result, on days when the number of soups sold is $40$, you cannot be sure what the true demand $N_i$ was (but you know $N_i\\geq 40$); on other days, the number of soups sold is the true demand $N_i<40$."
   ]
  },
  {
   "cell_type": "markdown",
   "metadata": {
    "id": "Yjy3dHqpb4GF"
   },
   "source": [
    "___\n",
    "\n",
    "**(a)**\n",
    "What is the probability mass function of the per-day sales $Y$ in terms of $p$?\n",
    "___\n"
   ]
  },
  {
   "cell_type": "markdown",
   "metadata": {
    "id": "wOQnI769b4GF"
   },
   "source": [
    "## Ans.\n"
   ]
  },
  {
   "cell_type": "markdown",
   "metadata": {},
   "source": [
    "$$Y = \\begin{cases} p(1-p)^k & \\text{when k<40} \\\\ (1-p)^{40} & \\text{when k=40}  \\end{cases}$$"
   ]
  },
  {
   "cell_type": "markdown",
   "metadata": {
    "id": "DRpHC9hbb4GF"
   },
   "source": [
    "___\n",
    "\n",
    "**(b)** Compute a maximum likelihood estimator of $p$ based on the sales data for soup given in `Soup_sales_data.csv`.\n",
    "___"
   ]
  },
  {
   "cell_type": "code",
   "execution_count": 46,
   "metadata": {},
   "outputs": [],
   "source": [
    "soupdata = np.loadtxt('C:/Users/gs722/Documents/orie/Soup_sales_data.csv',  delimiter =',', skiprows=1)"
   ]
  },
  {
   "cell_type": "markdown",
   "metadata": {
    "id": "1khe5-56b4GF"
   },
   "source": [
    "## Ans.\n"
   ]
  },
  {
   "cell_type": "code",
   "execution_count": 47,
   "metadata": {},
   "outputs": [],
   "source": [
    "def souppmf(k,p):\n",
    "    if np.abs(k-40)<0.1:\n",
    "        ret = (1-p)**40\n",
    "    else:\n",
    "        ret = p*(1-p)**k\n",
    "    return ret"
   ]
  },
  {
   "cell_type": "code",
   "execution_count": 48,
   "metadata": {
    "id": "00N4KuJqlEHf"
   },
   "outputs": [],
   "source": [
    "parr = np.arange(0.001,0.2,0.001)\n",
    "prod = np.zeros(len(parr))\n",
    "c=0;\n",
    "for p in parr:\n",
    "    prod[c] = 1\n",
    "    for i in range(len(soupdata)):\n",
    "        prod[c] = prod[c]*souppmf(soupdata[i,1],p)\n",
    "    prod[c] = np.log(prod[c])\n",
    "    c=c+1\n"
   ]
  },
  {
   "cell_type": "code",
   "execution_count": 49,
   "metadata": {},
   "outputs": [
    {
     "data": {
      "text/plain": [
       "[<matplotlib.lines.Line2D at 0x2c38692e0d0>]"
      ]
     },
     "execution_count": 49,
     "metadata": {},
     "output_type": "execute_result"
    },
    {
     "data": {
      "image/png": "[encoded data removed]",
      "text/plain": [
       "<Figure size 432x288 with 1 Axes>"
      ]
     },
     "metadata": {
      "needs_background": "light"
     },
     "output_type": "display_data"
    }
   ],
   "source": [
    "plt.plot(parr,prod)"
   ]
  },
  {
   "cell_type": "code",
   "execution_count": 52,
   "metadata": {},
   "outputs": [
    {
     "name": "stdout",
     "output_type": "stream",
     "text": [
      "Maximum likelihood estimator of p: 0.026796521918731744\n"
     ]
    }
   ],
   "source": [
    "interp1 = interp.InterpolatedUnivariateSpline(parr,prod);\n",
    "pmax = opt.bisect(interp1.derivative(),0.01,0.07)\n",
    "print('Maximum likelihood estimator of p: '+ repr(pmax))"
   ]
  },
  {
   "cell_type": "markdown",
   "metadata": {
    "id": "Lh-UW13FuhSQ"
   },
   "source": [
    "___\n",
    "___\n",
    "\n",
    "# Question 3: The Birthday Paradox (40 pts)\n",
    "\n",
    "In this question, we investigate the celebrated [birthday paradox](https://en.wikipedia.org/wiki/Birthday_problem)!"
   ]
  },
  {
   "cell_type": "markdown",
   "metadata": {
    "id": "yc0A7WxsuyEy"
   },
   "source": [
    "___\n",
    "\n",
    "**(a)** The basic question you may have seen in earlier probability courses is the following: given a party of $n$ people whose birthdays are drawn uniformly over the $365$ days in the year, what is the probability that at least two people share a birthday. Derive an expression for the probability, and plot it for $n\\in\\{10,11,12,\\ldots,49,50\\}$.\n",
    "___"
   ]
  },
  {
   "cell_type": "markdown",
   "metadata": {},
   "source": [
    "Let D be the number of days in the year D = 365\n",
    "\n",
    "Then probability that everyone has a different birthday = $\\frac{(D-1)}{D}\\frac{(D-2)}{D}...\\frac{(D-(n-1))}{D}$\n",
    "\n",
    "Probability that at least two people have the same birthday = $1-\\frac{(D-1)}{D}\\frac{(D-2)}{D}...\\frac{(D-(n-1))}{D}$"
   ]
  },
  {
   "cell_type": "markdown",
   "metadata": {
    "id": "EGsUT8JvwI-7"
   },
   "source": [
    "## Ans."
   ]
  },
  {
   "cell_type": "code",
   "execution_count": 359,
   "metadata": {
    "id": "CGZf5O0Kx9Ws"
   },
   "outputs": [],
   "source": [
    "def probatleast2(n):\n",
    "    D=365\n",
    "    probdiff=1\n",
    "    for i in range(n):\n",
    "        probdiff =probdiff*(D-i)/D\n",
    "    return 1 - probdiff"
   ]
  },
  {
   "cell_type": "code",
   "execution_count": 360,
   "metadata": {},
   "outputs": [
    {
     "data": {
      "text/plain": [
       "Text(0, 0.5, 'Probability at least 2 people share a birthday')"
      ]
     },
     "execution_count": 360,
     "metadata": {},
     "output_type": "execute_result"
    },
    {
     "data": {
      "image/png": "[encoded data removed]",
      "text/plain": [
       "<Figure size 432x288 with 1 Axes>"
      ]
     },
     "metadata": {
      "needs_background": "light"
     },
     "output_type": "display_data"
    }
   ],
   "source": [
    "narr = np.arange(10,50+1)\n",
    "probarr = np.zeros(len(narr))\n",
    "\n",
    "c=0;\n",
    "for ni in narr:\n",
    "    probarr[c] = probatleast2(ni)\n",
    "    c=c+1\n",
    "\n",
    "plt.plot(narr, probarr)\n",
    "plt.xlabel('Group size(n)')\n",
    "plt.ylabel('Probability at least 2 people share a birthday')"
   ]
  },
  {
   "cell_type": "markdown",
   "metadata": {
    "id": "QhBwTPrLwKhV"
   },
   "source": [
    "___\n",
    "**(b)** Next, we want to obtain the above probabilities by simulation. For a given $n$, perform simulations so as to estimate the probability  of at least two people sharing birthdays in a group of $n$, for $n\\in\\{15,16,\\ldots,30\\}$, up to $2$ decimal places (with $95\\%$ confidence). Plot the estimates and $95\\%$ CI, and also plot the theoretical result from part $(a)$ in the same plot.\n",
    "___"
   ]
  },
  {
   "cell_type": "markdown",
   "metadata": {
    "id": "_u8ikVrMx664"
   },
   "source": [
    "## Ans."
   ]
  },
  {
   "cell_type": "code",
   "execution_count": 361,
   "metadata": {
    "id": "L9gMbHO2x8cT"
   },
   "outputs": [],
   "source": [
    "narr = np.arange(15,31)\n",
    "probarr = np.zeros(len(narr))\n",
    "\n",
    "c=0;\n",
    "for ni in narr:\n",
    "    probarr[c] = probatleast2(ni)\n",
    "    c=c+1\n",
    "\n",
    "probsim = np.zeros(len(narr))\n",
    "probci = np.zeros(len(narr))\n",
    "\n",
    "c=0;\n",
    "for ni in narr:\n",
    "    expnumber =20; # running 20 experiments\n",
    "    probeach = np.zeros(expnumber)\n",
    "    sample=1e3 # each experiment samples 1000 groups of the given size 'n' \n",
    "\n",
    "    for exp in range(expnumber):\n",
    "        count=0;\n",
    "        for i in range(round(sample)):\n",
    "            seq = np.random.randint(1,365,ni)\n",
    "            if len(seq) != len(set(seq)):\n",
    "                count =count+1\n",
    "        probeach[exp] = count/sample    \n",
    "    \n",
    "    probsim[c] = np.mean(probeach)\n",
    "    probci[c] = 2*np.std(probeach, ddof=1)/np.sqrt(expnumber)\n",
    "\n",
    "    c=c+1"
   ]
  },
  {
   "cell_type": "code",
   "execution_count": 362,
   "metadata": {},
   "outputs": [
    {
     "name": "stdout",
     "output_type": "stream",
     "text": [
      "Since 0.00922570778913609<0.01, we have confidence/accuracy (of 95%) up to 2 decimal places\n"
     ]
    }
   ],
   "source": [
    "print('Since ' + repr(np.max(probci)) + '<0.01, we have confidence/accuracy (of 95%) up to 2 decimal places')"
   ]
  },
  {
   "cell_type": "code",
   "execution_count": 363,
   "metadata": {},
   "outputs": [
    {
     "data": {
      "text/plain": [
       "Text(0, 0.5, 'Probability at least 2 people share a birthday')"
      ]
     },
     "execution_count": 363,
     "metadata": {},
     "output_type": "execute_result"
    },
    {
     "data": {
      "image/png": "[encoded data removed]",
      "text/plain": [
       "<Figure size 432x288 with 1 Axes>"
      ]
     },
     "metadata": {
      "needs_background": "light"
     },
     "output_type": "display_data"
    }
   ],
   "source": [
    "plt.plot(narr, probarr)\n",
    "plt.errorbar(narr,probsim,yerr = probci,fmt ='o')\n",
    "plt.xlabel('Group size(n)')\n",
    "plt.ylabel('Probability at least 2 people share a birthday')\n"
   ]
  },
  {
   "cell_type": "markdown",
   "metadata": {
    "id": "fT4Jt0Inx99q"
   },
   "source": [
    "\n",
    "\n",
    "---\n",
    "\n",
    "**(c)** One flaw in our analysis is that birth-dates may not be uniformly distributed throughout the year. To check this, we can look at data of real birth-dates.\n",
    "\n",
    "The file `bdaydata.txt` has a list of $365$ days in the year (excluding February $29$) and the corresponding number of birthdays on that date. Load the dataset and plot the following:\n",
    "\n",
    "i. Empirical histogram of the data\n",
    "\n",
    "ii. Empirical cdf\n",
    "\n",
    "iii. Q-Q plot comparing the data to a uniform distribution\n",
    "\n",
    "(Dataset based on life insurance data from 1981-94; data and example courtesy [Roy Murphy](http://www.panix.com/~murphy/bday.html).)\n",
    "___"
   ]
  },
  {
   "cell_type": "markdown",
   "metadata": {
    "id": "g4c_Csc_ywpw"
   },
   "source": [
    "## Ans."
   ]
  },
  {
   "cell_type": "code",
   "execution_count": 364,
   "metadata": {
    "id": "NkcHgFB4yy41"
   },
   "outputs": [
    {
     "data": {
      "text/plain": [
       "Text(0.5, 1.0, 'Emperical CDF')"
      ]
     },
     "execution_count": 364,
     "metadata": {},
     "output_type": "execute_result"
    },
    {
     "data": {
      "image/png": "[encoded data removed]",
      "text/plain": [
       "<Figure size 432x288 with 1 Axes>"
      ]
     },
     "metadata": {
      "needs_background": "light"
     },
     "output_type": "display_data"
    },
    {
     "data": {
      "image/png": "[encoded data removed]",
      "text/plain": [
       "<Figure size 432x288 with 1 Axes>"
      ]
     },
     "metadata": {
      "needs_background": "light"
     },
     "output_type": "display_data"
    }
   ],
   "source": [
    "# For loading the data, you can use \"df = pd.read_csv('bdaydata.txt',sep=' ')\"\n",
    "# Please note that the txt file needs to be placed in the same folder with the ipynb file.\n",
    "# To extract the counts column as a vector, use \"df.values[:,1]\"\n",
    "\n",
    "df = pd.read_csv('C:/Users/gs722/Documents/orie/bdaydata.txt',sep=' ')\n",
    "X = df.values[:,0]\n",
    "plt.figure(figsize=[6, 4])\n",
    "plt.bar(np.arange(365), df.values[:,1]/np.sum(df.values[:,0]))\n",
    "plt.xlabel('Birthday index')\n",
    "plt.ylabel('Probability')\n",
    "plt.title('Emperical Histogram')\n",
    "ecdf = np.cumsum(df.values[:,1]/np.sum(df.values[:,1]))\n",
    "plt.figure(figsize=[6, 4])\n",
    "plt.plot(np.arange(365), ecdf, label='Empirical cdf', linewidth=1,linestyle='--', drawstyle='steps-post')\n",
    "plt.xlabel('Birthday index')\n",
    "plt.ylabel('Probability')\n",
    "plt.title('Emperical CDF')\n",
    "\n"
   ]
  },
  {
   "cell_type": "code",
   "execution_count": 365,
   "metadata": {},
   "outputs": [
    {
     "data": {
      "text/plain": [
       "[<matplotlib.lines.Line2D at 0x2c3901b5460>]"
      ]
     },
     "execution_count": 365,
     "metadata": {},
     "output_type": "execute_result"
    },
    {
     "data": {
      "image/png": "[encoded data removed]",
      "text/plain": [
       "<Figure size 432x288 with 1 Axes>"
      ]
     },
     "metadata": {
      "needs_background": "light"
     },
     "output_type": "display_data"
    }
   ],
   "source": [
    "# Q-Q Plot\n",
    "\n",
    "from scipy.stats import uniform\n",
    "x=np.arange(365)\n",
    "cdf_2 = uniform.ppf(ecdf, loc=0, scale=365)\n",
    "plt.plot(x, cdf_2, 'o')  # Points in the Q-Q plot\n",
    "plt.plot(x, x, ':m', linewidth=3)  # Theoretical quantiles as a magenta dotted line"
   ]
  },
  {
   "cell_type": "markdown",
   "metadata": {
    "id": "4983wTTlkaG0"
   },
   "source": [
    "___\n",
    "\n",
    "**(d)** Perform a Chi-square Test **and** a Kolmogorov-Smirnov Test to study how well the data is modeled by a uniform distribution.\n",
    "\n",
    "___"
   ]
  },
  {
   "cell_type": "markdown",
   "metadata": {
    "id": "0dWUUfznkl5k"
   },
   "source": [
    "## Ans.\n"
   ]
  },
  {
   "cell_type": "code",
   "execution_count": 366,
   "metadata": {
    "id": "F3XLVod3kuIc"
   },
   "outputs": [
    {
     "data": {
      "text/plain": [
       "KstestResult(statistic=0.012766143582639944, pvalue=1.761773563266988e-68)"
      ]
     },
     "execution_count": 366,
     "metadata": {},
     "output_type": "execute_result"
    }
   ],
   "source": [
    "from scipy.stats import kstest\n",
    "from scipy.stats import chi2\n",
    "\n",
    "kstest(np.repeat(x, df.values[:,1]),\"uniform\",args=(0,365))"
   ]
  },
  {
   "cell_type": "code",
   "execution_count": 367,
   "metadata": {},
   "outputs": [
    {
     "name": "stdout",
     "output_type": "stream",
     "text": [
      "Observed xi-sq diff (D_2)= 1352.7233599950073\n",
      "xi-sq diff threshold for 95% = 407.36601537620385\n",
      "p-value related to accepting uniform dist= 0.0\n"
     ]
    }
   ],
   "source": [
    "obs = df.values[:,1]\n",
    "exp = np.repeat(np.sum(df.values[:,1])/365,365)\n",
    "# Calculate the chi-squared test statistic (D^2)\n",
    "D_2 = np.sum((obs - exp)**2/exp)\n",
    "df = 365 -(2+1) \n",
    "# Print the result of the chi-squared test\n",
    "\n",
    "pval = 1-chi2.cdf(D_2, df)\n",
    "chi2.ppf([0.95], df)\n",
    "\n",
    "print('Observed xi-sq diff (D_2)= ' + repr(D_2))\n",
    "print('xi-sq diff threshold for 95% = ' + repr(chi2.ppf([0.95], df)[0]))\n",
    "print('p-value related to accepting uniform dist= ' + repr(pval))"
   ]
  },
  {
   "cell_type": "markdown",
   "metadata": {},
   "source": [
    "Interestingly enough, the hypothesis that birthdays are uniformly distributed could be rejected (wih p=0.05), hence uniform distribution is not a good model (at least not for the data represented above!)"
   ]
  },
  {
   "cell_type": "markdown",
   "metadata": {
    "id": "ga-5b3SSkoKp"
   },
   "source": [
    "___\n",
    "\n",
    "**(e)** Since you have an extensive dataset of birthday frequency, you can directly use the nonparametric bootstrap to estimate the probability of at least two people sharing birthdays in a group of $n$. Plot the bootstrap estimate and $95\\%$ CI for $n\\in\\{15,16,\\ldots,30\\}$, and compare against the plot in part $(b)$.\n",
    "\n",
    "___"
   ]
  },
  {
   "cell_type": "markdown",
   "metadata": {
    "id": "puJK5Zkio3RD"
   },
   "source": [
    "## Ans.\n"
   ]
  },
  {
   "cell_type": "code",
   "execution_count": 372,
   "metadata": {},
   "outputs": [],
   "source": [
    "df = pd.read_csv('C:/Users/gs722/Documents/orie/bdaydata.txt',sep=' ')\n",
    "dataseq = np.repeat(x, df.values[:,1])"
   ]
  },
  {
   "cell_type": "code",
   "execution_count": 375,
   "metadata": {},
   "outputs": [],
   "source": [
    "narr = np.arange(15,31)\n",
    "probboot = np.zeros(len(narr))\n",
    "probbootci = np.zeros(len(narr))\n",
    "\n",
    "c=0;\n",
    "for ni in narr:\n",
    "    expnumber =20; # running 20 experiments\n",
    "    probeach = np.zeros(expnumber)\n",
    "    sample=1e3 # each experiment samples 1000 groups of the given size 'n' \n",
    "\n",
    "    for exp in range(expnumber):\n",
    "        count=0;\n",
    "        for i in range(round(sample)):\n",
    "            seq = np.random.choice(dataseq,ni)\n",
    "            if len(seq) != len(set(seq)):\n",
    "                count =count+1\n",
    "        probeach[exp] = count/sample    \n",
    "    \n",
    "    probboot[c] = np.mean(probeach)\n",
    "    probbootci[c] = 2*np.std(probeach, ddof=1)/np.sqrt(expnumber)\n",
    "\n",
    "    c=c+1"
   ]
  },
  {
   "cell_type": "code",
   "execution_count": 377,
   "metadata": {
    "id": "_Th2tmBoo5Lh"
   },
   "outputs": [
    {
     "data": {
      "text/plain": [
       "Text(0, 0.5, 'Probability at least 2 people share a birthday')"
      ]
     },
     "execution_count": 377,
     "metadata": {},
     "output_type": "execute_result"
    },
    {
     "data": {
      "image/png": "[encoded data removed]",
      "text/plain": [
       "<Figure size 432x288 with 1 Axes>"
      ]
     },
     "metadata": {
      "needs_background": "light"
     },
     "output_type": "display_data"
    }
   ],
   "source": [
    "plt.plot(narr, probarr)\n",
    "plt.errorbar(narr,probsim,yerr = probci,fmt ='o')\n",
    "plt.errorbar(narr,probboot,yerr = probbootci,fmt ='o')\n",
    "plt.xlabel('Group size(n)')\n",
    "plt.ylabel('Probability at least 2 people share a birthday')\n"
   ]
  },
  {
   "cell_type": "markdown",
   "metadata": {
    "id": "FJhVnfbFb4GI"
   },
   "source": [
    "___\n",
    "___\n",
    "\n",
    "# Question 4: Benford's Law (30 pts)\n",
    "\n",
    "In this question, we will use the Chi-square test to study *Benford's law* in a variety of setttings. Consider a data set consisting of $n$ different numbers, and look at the leading digit of each number (for example, the leading digit of $123.456$ is $1$, and the leading digit of $-0.423$ is $4$). For many data sets, the fraction of leading digits that equal $1$ is much higher than $1/9$ (i.e., what it would be if uniformlly distributed); in fact, the probability distribution of the different leading digits $1, 2, \\ldots, 9$ is far from uniform.\n",
    "\n",
    "This observation has been observed to hold in measurements of distances to galaxies, numbers appearing in tax forms and many other settings, and has been used to detect fraud among other uses. See [the Wikipedia page](https://en.wikipedia.org/wiki/Benford\\%27s_law) for a description of this phenomena, and [this blog post](https://terrytao.wordpress.com/2009/07/03/benfords-law-zipfs-law-and-the-pareto-distribution/) for an interesting related discussion. More recently, this has also been (supposedly) misused in (supposedly) detecting (supposed) fraud in election results -- see [this Stand-Up Maths](https://www.youtube.com/watch?v=etx0k1nLn78&t=4s) video for a great example of how data analysis should be done!\n",
    "\n"
   ]
  },
  {
   "cell_type": "markdown",
   "metadata": {
    "id": "xCLoBig-b4GI"
   },
   "source": [
    "___\n",
    "\n",
    "**(a)** First, we will study this phenomena in a *synthetic* dataset. For this, compute the first digits of $n!$ for the first $1500$ integers, and plot their empirical histogram. You can use the code fragment provided to generate the first $n$ factorials.\n",
    "___\n"
   ]
  },
  {
   "cell_type": "markdown",
   "metadata": {
    "id": "YljDZzRgp_G8"
   },
   "source": [
    "## Ans."
   ]
  },
  {
   "cell_type": "code",
   "execution_count": 310,
   "metadata": {
    "id": "77FZ8tmCb4GI"
   },
   "outputs": [
    {
     "data": {
      "image/png": "[encoded data removed]",
      "text/plain": [
       "<Figure size 432x288 with 1 Axes>"
      ]
     },
     "metadata": {
      "needs_background": "light"
     },
     "output_type": "display_data"
    }
   ],
   "source": [
    "from scipy.special import factorial\n",
    "n=1500\n",
    "fact_series = factorial(np.arange(n),exact=True)\n",
    "first_digit = np.zeros(n)\n",
    "for i in range(n):\n",
    "     first_digit[i] = int(str(fact_series[i])[0])\n",
    "binsedge = np.arange(0,10)+0.5\n",
    "plt.hist(first_digit, bins = binsedge)  ;      "
   ]
  },
  {
   "cell_type": "markdown",
   "metadata": {
    "id": "HBT-fHg8b4GI"
   },
   "source": [
    "___\n",
    "**(b)** Use a Chi-square test to determine how well the data can be modeled using a uniform distribution.\n",
    "\n",
    "___\n"
   ]
  },
  {
   "cell_type": "markdown",
   "metadata": {
    "id": "0cfhwR8NqeWa"
   },
   "source": [
    "## Ans."
   ]
  },
  {
   "cell_type": "code",
   "execution_count": 322,
   "metadata": {},
   "outputs": [
    {
     "name": "stdout",
     "output_type": "stream",
     "text": [
      "Observed xi-sq diff (D_2)= 670.8000000000002\n",
      "xi-sq diff threshold for 95% = 12.591587243743977\n",
      "p-value related to accepting uniform dist= 0.0\n"
     ]
    }
   ],
   "source": [
    "from scipy.stats import chi2\n",
    "\n",
    "n = np.size(first_digit)\n",
    "k=9\n",
    "obs, bins = np.histogram(first_digit, bins = binsedge)   \n",
    "exp = float(n/k) * np.ones(k)\n",
    "D_2 = np.sum((obs - exp)**2/exp)\n",
    "df =k-(2+1)\n",
    "pval = 1-chi2.cdf(D_2, df)\n",
    "chi2.ppf([0.95], df)\n",
    "\n",
    "print('Observed xi-sq diff (D_2)= ' + repr(D_2))\n",
    "print('xi-sq diff threshold for 95% = ' + repr(chi2.ppf([0.95], df)[0]))\n",
    "print('p-value related to accepting uniform dist= ' + repr(pval))\n",
    "\n"
   ]
  },
  {
   "cell_type": "markdown",
   "metadata": {},
   "source": [
    "As χ2-value = 12.5916 << D_2\n",
    "\n",
    "Hence, uniform distribution is a bad model to descibe the data."
   ]
  },
  {
   "cell_type": "markdown",
   "metadata": {
    "id": "okLmo5b2b4GI"
   },
   "source": [
    "___\n",
    "\n",
    "**(c)** Next, use a Chi-square test to test how well the data is modeled using the 'Benford's Law' distribution:\n",
    "$$p(d)= \\log _{10}(d+1)-\\log _{10}(d), \\quad d\\in\\{1,2,\\ldots,9\\}$$\n",
    "\n",
    "\n",
    "___"
   ]
  },
  {
   "cell_type": "code",
   "execution_count": 255,
   "metadata": {
    "id": "oz3YDgLpb4GI"
   },
   "outputs": [],
   "source": [
    "def benford(d):\n",
    "    return np.log10(d+1)-np.log10(d)"
   ]
  },
  {
   "cell_type": "code",
   "execution_count": 323,
   "metadata": {},
   "outputs": [
    {
     "name": "stdout",
     "output_type": "stream",
     "text": [
      "Observed xi-sq diff (D_2)= 9.456569118464648\n",
      "xi-sq diff threshold for 95% = 15.50731305586545\n",
      "p-value related to accepting uniform dist= 0.30525483396067554\n"
     ]
    }
   ],
   "source": [
    "darr = np.arange(1,10)\n",
    "exp = n*benford(darr)\n",
    "D_2 = np.sum((obs - exp)**2/exp)\n",
    "df = 8\n",
    "pval = 1-chi2.cdf(D_2, df)\n",
    "chi2.ppf([0.95], df)\n",
    "\n",
    "print('Observed xi-sq diff (D_2)= ' + repr(D_2))\n",
    "print('xi-sq diff threshold for 95% = ' + repr(chi2.ppf([0.95], df)[0]))\n",
    "print('p-value related to accepting uniform dist= ' + repr(pval))\n"
   ]
  },
  {
   "cell_type": "markdown",
   "metadata": {},
   "source": [
    " χ2-value = 15.5073 > statistic -> can not reject null hypothesis \n",
    " \n",
    " Hypothesis that the data for benford law is likely to be true! "
   ]
  },
  {
   "cell_type": "markdown",
   "metadata": {
    "id": "rVl8W5m9b4GI"
   },
   "source": [
    "___\n",
    "\n",
    "**(d)** Finally, we will repeat this analysis with a more natural dataset. The dataset `us_pop.csv` contains the US population in 100,000 different zip codes in the year 2010, and the numbers range from less than ten to almost 100,000. As above, compute the histogram of the leading digits, and use the Chi-square test to see how well the data is modeled via the uniform and the Benford's law distributions.\n",
    "___"
   ]
  },
  {
   "cell_type": "markdown",
   "metadata": {
    "id": "rKyZ12L2srUZ"
   },
   "source": [
    "## Ans."
   ]
  },
  {
   "cell_type": "code",
   "execution_count": 324,
   "metadata": {
    "id": "vl7qScg0b4GI"
   },
   "outputs": [],
   "source": [
    "uspopdata = np.loadtxt('C:/Users/gs722/Documents/orie/us_pop.csv',  delimiter =',', skiprows=1)"
   ]
  },
  {
   "cell_type": "code",
   "execution_count": 325,
   "metadata": {},
   "outputs": [],
   "source": [
    "popdata =uspopdata[:,0]"
   ]
  },
  {
   "cell_type": "code",
   "execution_count": 326,
   "metadata": {},
   "outputs": [],
   "source": [
    "import math\n",
    " \n",
    "def firstDigit(n) :     \n",
    "    digits = (int)(math.log10(n))\n",
    "    n = (int)(n / pow(10, digits))\n",
    "    return n;"
   ]
  },
  {
   "cell_type": "code",
   "execution_count": 327,
   "metadata": {},
   "outputs": [],
   "source": [
    "firstdig = np.zeros(len(popdata))\n",
    "c=0\n",
    "for p in popdata:\n",
    "    firstdig[c] = firstDigit(p)\n",
    "    c=c+1"
   ]
  },
  {
   "cell_type": "code",
   "execution_count": 328,
   "metadata": {},
   "outputs": [
    {
     "data": {
      "image/png": "[encoded data removed]",
      "text/plain": [
       "<Figure size 432x288 with 1 Axes>"
      ]
     },
     "metadata": {
      "needs_background": "light"
     },
     "output_type": "display_data"
    }
   ],
   "source": [
    "plt.hist(firstdig, bins = binsedge)  ;      "
   ]
  },
  {
   "cell_type": "code",
   "execution_count": 329,
   "metadata": {},
   "outputs": [
    {
     "name": "stdout",
     "output_type": "stream",
     "text": [
      "Observed xi-sq diff (D_2)= 50323.53572\n",
      "xi-sq diff threshold for 95% = 12.591587243743977\n",
      "p-value related to accepting uniform dist= 0.0\n"
     ]
    }
   ],
   "source": [
    "\n",
    "n = np.size(firstdig)\n",
    "k=9\n",
    "obs, bins = np.histogram(firstdig, bins = binsedge)   \n",
    "exp = float(n/k) * np.ones(k)\n",
    "D_2 = np.sum((obs - exp)**2/exp)\n",
    "df =k-(2+1)\n",
    "pval = 1-chi2.cdf(D_2, df)\n",
    "chi2.ppf([0.95], df)\n",
    "\n",
    "print('Observed xi-sq diff (D_2)= ' + repr(D_2))\n",
    "print('xi-sq diff threshold for 95% = ' + repr(chi2.ppf([0.95], df)[0]))\n",
    "print('p-value related to accepting uniform dist= ' + repr(pval))"
   ]
  },
  {
   "cell_type": "code",
   "execution_count": 330,
   "metadata": {},
   "outputs": [
    {
     "name": "stdout",
     "output_type": "stream",
     "text": [
      "Observed xi-sq diff (D_2)= 11.84322681811079\n",
      "xi-sq diff threshold for 95% = 15.50731305586545\n",
      "p-value related to accepting uniform dist= 0.1583369813785015\n"
     ]
    }
   ],
   "source": [
    "darr = np.arange(1,10)\n",
    "exp = n*benford(darr)\n",
    "D_2 = np.sum((obs - exp)**2/exp)\n",
    "df = 8\n",
    "pval = 1-chi2.cdf(D_2, df)\n",
    "chi2.ppf([0.95], df)\n",
    "\n",
    "print('Observed xi-sq diff (D_2)= ' + repr(D_2))\n",
    "print('xi-sq diff threshold for 95% = ' + repr(chi2.ppf([0.95], df)[0]))\n",
    "print('p-value related to accepting uniform dist= ' + repr(pval))\n",
    "\n"
   ]
  },
  {
   "cell_type": "markdown",
   "metadata": {},
   "source": [
    " χ2-value = 15.5073 > statistic -> can not reject null hypothesis, hypothesis that the data for benford law is likely to be true! "
   ]
  },
  {
   "cell_type": "markdown",
   "metadata": {
    "id": "adS-uJlsuEPA"
   },
   "source": [
    "**(e) (Optional for all students)** To understand how the Benford's law distribution originates, the important idea is that when a random variable $X$ ranges over several orders (say between $0$ and $10^6$), then it is better modelled by saying that $\\log_{10}(X)$ is uniformly distributed on interval $[0,6]$ (rather than $X$ being uniform on $[0,10^6]$. Using this, can you derive the the exact probabilities for each of the leading digits."
   ]
  },
  {
   "cell_type": "code",
   "execution_count": null,
   "metadata": {
    "id": "D3iMUEvEuRu8"
   },
   "outputs": [],
   "source": []
  }
 ],
 "metadata": {
  "colab": {
   "provenance": []
  },
  "kernelspec": {
   "display_name": "Python 3",
   "language": "python",
   "name": "python3"
  },
  "language_info": {
   "codemirror_mode": {
    "name": "ipython",
    "version": 3
   },
   "file_extension": ".py",
   "mimetype": "text/x-python",
   "name": "python",
   "nbconvert_exporter": "python",
   "pygments_lexer": "ipython3",
   "version": "3.8.8"
  }
 },
 "nbformat": 4,
 "nbformat_minor": 4
}
