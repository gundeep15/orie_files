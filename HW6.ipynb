{
 "cells": [
  {
   "cell_type": "markdown",
   "metadata": {
    "id": "yEYDm_ICb4GC"
   },
   "source": [
    "# ORIE 4580/5580 Assignment 6\n",
    "\n",
    "#### Students: Gundeep Singh (gs722)\n",
    "\n",
    "### Github link: [Github link](https://github.com/gundeep15/orie_files/blob/main/HW6.ipynb)\n"
   ]
  },
  {
   "cell_type": "markdown",
   "metadata": {
    "id": "l3G_wUFRg9v6"
   },
   "source": [
    "### Instructions\n",
    "\n",
    "\n",
    "* Due Tuesday, November 14, at 11.59am on Gradescope.\n",
    "* Assignment .ipynb files available for download on [Canvas](https://canvas.cornell.edu/courses/56826#:~:text=Assignments-,Assignments,-Assignments%20Module%20publish). Do all your work in provided notebook (text answers typeset in markdown; show all required code and generate plots inline), and then generate and submit a pdf.\n",
    "* Ideally do assignments in groups of 2, and submit a single pdf with both names\n",
    "* Please show your work and clearly mark your answers.\n",
    "* You can use any code fragments given in class, found online (for example, on StackOverflow), or generated via Bard or ChatGPT (you are encouraged to use these for first drafts) **with proper referencing**. You can also discuss with others (again, please reference them if you do so); but you must write your final answers on your own as a team.\n",
    "\n",
    "\n",
    "\n",
    "### Suggested reading\n",
    "\n",
    "[Mor Harchol-Balter's chapter](https://canvas.cornell.edu/courses/56826/files/9180297/download?download_frd=1) on the Poisson process (on Canvas)"
   ]
  },
  {
   "cell_type": "code",
   "execution_count": 7,
   "metadata": {},
   "outputs": [],
   "source": [
    "import csv\n",
    "#importing necessary packages\n",
    "import numpy as np\n",
    "import matplotlib.pyplot as plt\n",
    "import scipy.stats\n",
    "import math\n",
    "%matplotlib inline\n",
    "import numpy.matlib\n",
    "from scipy import special\n",
    "from scipy import linalg\n",
    "\n",
    "import scipy.interpolate as interp\n",
    "import scipy.optimize as opt\n",
    "import pandas as pd"
   ]
  },
  {
   "cell_type": "markdown",
   "metadata": {
    "id": "e8ndo1Pm5S9E"
   },
   "source": [
    "___\n",
    "___\n",
    "\n",
    "# Question 1: Everyone goes to Gimme! (25 points)\n",
    "\n",
    "The downtown Ithaca Gimme! store sees a Poisson arrival process with rate\n",
    "\n",
    "$$ \\lambda(t)=\\frac{1}{56}\\left(5t^3-90t^2+300t+1480\\right) \\quad \\text{for } 0 \\leq t \\leq 12,$$\n",
    "\n",
    "over the 12 hours on the weekdays it is open.\n"
   ]
  },
  {
   "cell_type": "markdown",
   "metadata": {
    "id": "F4ENNINL5guU"
   },
   "source": [
    "___\n",
    "\n",
    "**(a)** Compute the exact probability that the coffee store will see more than 250 customers in one 12 hour day. Do not use simulation.\n",
    "___\n"
   ]
  },
  {
   "cell_type": "markdown",
   "metadata": {
    "id": "JISOt5FL5oWO"
   },
   "source": [
    "## Ans.\n",
    "Number of arrivals between hours 0 to 12 are given by the Poisson distribution with \n",
    "\n",
    "$$\\lambda =\\int_{0}^{12} dt\\frac{1}{56}\\left(5t^3-90t^2+300t+1480\\right) =240$$\n",
    "\n",
    "Probability that more than 250 arrivals occur:"
   ]
  },
  {
   "cell_type": "code",
   "execution_count": 17,
   "metadata": {},
   "outputs": [
    {
     "data": {
      "text/plain": [
       "0.24711253205956696"
      ]
     },
     "execution_count": 17,
     "metadata": {},
     "output_type": "execute_result"
    }
   ],
   "source": [
    "prob = scipy.stats.poisson.cdf(250, 240)\n",
    "1-prob"
   ]
  },
  {
   "cell_type": "markdown",
   "metadata": {
    "id": "J9_Sh_Hf5rca"
   },
   "source": [
    "___\n",
    "\n",
    "**(b)** Use thinning to simulate 500 replications of the Poisson arrival process. Based on these replications, estimate the probability in Part (a) and report a 95\\% confidence interval.\n",
    "\n",
    "___"
   ]
  },
  {
   "cell_type": "markdown",
   "metadata": {
    "id": "iZ3iHE745ty7"
   },
   "source": [
    "## Ans.\n",
    "\n"
   ]
  },
  {
   "cell_type": "code",
   "execution_count": 27,
   "metadata": {},
   "outputs": [],
   "source": [
    "def func(t):\n",
    "    return 1/56*(5*t**3 -90*t**2 +300*t + 1480 )"
   ]
  },
  {
   "cell_type": "code",
   "execution_count": 28,
   "metadata": {
    "id": "45qmxWiu52Yd"
   },
   "outputs": [
    {
     "name": "stdout",
     "output_type": "stream",
     "text": [
      "tmax: 1.999999999998181\n"
     ]
    },
    {
     "data": {
      "image/png": "[encoded data removed]",
      "text/plain": [
       "<Figure size 432x288 with 1 Axes>"
      ]
     },
     "metadata": {
      "needs_background": "light"
     },
     "output_type": "display_data"
    }
   ],
   "source": [
    "tarr = np.linspace(0,12,100)\n",
    "plt.plot(tarr,func(tarr))\n",
    "interp1 = interp.InterpolatedUnivariateSpline(tarr,func(tarr));\n",
    "tmax = opt.bisect(interp1.derivative(),1,5)\n",
    "print('tmax: '+ repr(tmax))\n",
    "\n",
    "lstar = func(tmax)+0.1"
   ]
  },
  {
   "cell_type": "code",
   "execution_count": 74,
   "metadata": {},
   "outputs": [],
   "source": [
    "exp = 5\n",
    "probarr = np.zeros(exp)\n",
    "for k in range(exp):\n",
    "    repeats =500\n",
    "    ncountarr = np.zeros(repeats)\n",
    "    for j in range(repeats):\n",
    "        ncount = 0;\n",
    "        Tstarcount = 0;\n",
    "        Tcount = 0;\n",
    "\n",
    "        while Tstarcount<12:\n",
    "            a = np.random.exponential(1/lstar,1)\n",
    "            Tstarcount = Tstarcount+a;\n",
    "            if np.random.rand()<=func(Tstarcount)/lstar:\n",
    "                Tcount = Tstarcount\n",
    "                ncount = ncount+1\n",
    "        if Tcount>12:\n",
    "            ncount = ncount-1\n",
    "\n",
    "        ncountarr[j] = ncount\n",
    "    probarr[k] = sum(ncountarr>250)/repeats   "
   ]
  },
  {
   "cell_type": "code",
   "execution_count": 76,
   "metadata": {},
   "outputs": [
    {
     "name": "stdout",
     "output_type": "stream",
     "text": [
      "['Prob of more than 250 arrivals =0.24180000000000001 +/- 0.008499659435901879']\n"
     ]
    }
   ],
   "source": [
    "mm = np.mean(probarr)\n",
    "ci = 2*np.std(probarr, ddof=1)/np.sqrt(exp)\n",
    "print(['Prob of more than 250 arrivals =' + repr(mm) + ' +/- ' + repr(ci)])"
   ]
  },
  {
   "cell_type": "markdown",
   "metadata": {},
   "source": [
    "Single experiment with saving time when customers arrive:"
   ]
  },
  {
   "cell_type": "code",
   "execution_count": null,
   "metadata": {},
   "outputs": [],
   "source": [
    "repeats =500\n",
    "ncountarr = np.zeros(repeats)\n",
    "tcountarr =np.zeros(12)\n",
    "\n",
    "for j in range(repeats):\n",
    "    ncount = 0;\n",
    "    Tstarcount = 0;\n",
    "    Tcount = [];\n",
    "\n",
    "    while Tstarcount<12:\n",
    "        a = np.random.exponential(1/lstar,1)\n",
    "        Tstarcount = Tstarcount+a;\n",
    "        if np.random.rand()<=func(Tstarcount)/lstar:\n",
    "            Tcount.append(Tstarcount[0]);\n",
    "            ncount = ncount+1\n",
    "    if Tcount[-1]>12:\n",
    "        ncount = ncount-1\n",
    "        Tcount = Tcount[:-1]\n",
    "    ncountarr[j] = ncount\n",
    "    tcountarr = tcountarr + np.histogram(Tcount, bins=np.arange(0,12+1))[0] "
   ]
  },
  {
   "cell_type": "markdown",
   "metadata": {
    "id": "atztSUh657dR"
   },
   "source": [
    "___\n",
    "**(c)** Based on your 500 replications, make a bar plot showing the average number of customers who arrive during each of the twelve hours of operation. Plot the rate function $\\lambda(t)$ and compare.\n",
    "___"
   ]
  },
  {
   "cell_type": "markdown",
   "metadata": {
    "id": "uJoZkqXT5_RA"
   },
   "source": [
    "## Ans."
   ]
  },
  {
   "cell_type": "code",
   "execution_count": 117,
   "metadata": {
    "id": "sqHHYgOf57GQ"
   },
   "outputs": [
    {
     "data": {
      "text/plain": [
       "[<matplotlib.lines.Line2D at 0x243a9d6d490>]"
      ]
     },
     "execution_count": 117,
     "metadata": {},
     "output_type": "execute_result"
    },
    {
     "data": {
      "image/png": "[encoded data removed]",
      "text/plain": [
       "<Figure size 432x288 with 1 Axes>"
      ]
     },
     "metadata": {
      "needs_background": "light"
     },
     "output_type": "display_data"
    }
   ],
   "source": [
    "tarr = np.linspace(0,12,100)\n",
    "plt.bar(np.arange(12)+0.5, tcountarr/repeats)\n",
    "plt.plot(tarr,func(tarr))\n",
    "#plt.show() "
   ]
  },
  {
   "cell_type": "markdown",
   "metadata": {
    "id": "5AMJpIgg0AUP"
   },
   "source": [
    "\n",
    "\n",
    "\n",
    "---\n",
    "---\n",
    "\n",
    "\n",
    "# Question 2: Putting my son to bed (30 points)\n",
    "\n",
    "Sid uses a Spotify playlist with $n$ soothing songs to put his son to sleep. He plays the playlist on shuffle, but is worried that some songs may not get played (he spent a long time curating the playlist!).\n",
    "\n",
    "___\n",
    "**(a)**\n",
    "Suppose Spotify truly picks a random song each time -- Sid wants to know how many songs it takes on average to play **every song** on his playlist. Build a simulator to estimate this for a different values of $n$, and use this to try and guess the function.\n",
    "\n",
    "*Note: Try and pick a large range of $n$ to get a sense of the function of number of songs needed to play all vs. $n$ -- if you are adventurous, try to fit the function. Make sure you always show your CIs!*\n",
    "___"
   ]
  },
  {
   "cell_type": "code",
   "execution_count": 141,
   "metadata": {},
   "outputs": [],
   "source": [
    "def everysong(n):\n",
    "    songlist = []\n",
    "    uniquesonglist = np.unique(songlist)\n",
    "    counter=0;\n",
    "    while len(uniquesonglist) != n:\n",
    "        songlist.append(np.random.randint(n))\n",
    "        uniquesonglist = np.unique(songlist)\n",
    "        counter=counter+1\n",
    "    return counter\n",
    "        "
   ]
  },
  {
   "cell_type": "code",
   "execution_count": 157,
   "metadata": {},
   "outputs": [],
   "source": [
    "narr=np.arange(1,100)\n",
    "meantotsong = np.zeros(len(narr))\n",
    "sigtotsong = np.zeros(len(narr))\n",
    "for n in narr:\n",
    "    repeat =50\n",
    "    totsongarr = np.zeros(repeat)\n",
    "    for r in range(repeat):\n",
    "        totsongarr[r] = everysong(n)\n",
    "        \n",
    "    meantotsong [n-1] =  np.mean(totsongarr)\n",
    "    sigtotsong [n-1]  = 2*np.std(totsongarr, ddof=1)/np.sqrt(repeat)"
   ]
  },
  {
   "cell_type": "code",
   "execution_count": 212,
   "metadata": {},
   "outputs": [],
   "source": [
    "def func_avg(N):\n",
    "    sum1 = 0 ;\n",
    "    for i in np.arange(1,N+1):\n",
    "        sum1 = sum1 + 1/i;\n",
    "    return N*sum1\n",
    "y =np.zeros(len(narr))\n",
    "for n in narr:\n",
    "    y[n-1] = func_avg(n)\n"
   ]
  },
  {
   "cell_type": "code",
   "execution_count": 215,
   "metadata": {},
   "outputs": [
    {
     "data": {
      "text/plain": [
       "[<matplotlib.lines.Line2D at 0x243ab64d2e0>]"
      ]
     },
     "execution_count": 215,
     "metadata": {},
     "output_type": "execute_result"
    },
    {
     "data": {
      "image/png": "[encoded data removed]",
      "text/plain": [
       "<Figure size 432x288 with 1 Axes>"
      ]
     },
     "metadata": {
      "needs_background": "light"
     },
     "output_type": "display_data"
    }
   ],
   "source": [
    "#plt.plot(narr,meantotsong)\n",
    "plt.errorbar(narr,meantotsong,yerr = sigtotsong,fmt ='o')\n",
    "plt.plot(narr,y)"
   ]
  },
  {
   "cell_type": "markdown",
   "metadata": {
    "id": "FdZFPY8J00Nz"
   },
   "source": [
    "## Ans.\n"
   ]
  },
  {
   "cell_type": "markdown",
   "metadata": {
    "id": "kHPnqRj105lL"
   },
   "source": [
    "___\n",
    "\n",
    "**(b)** On the other hand, Sid has realized that his son wakes up whenever he hears a song that has been played before (clever, isn't he!). Use your previous simulator to figure out how many songs Sid's son hears before he wakes up.\n",
    "\n",
    "___"
   ]
  },
  {
   "cell_type": "markdown",
   "metadata": {
    "id": "o-b5c59b2CV-"
   },
   "source": [
    "## Ans.\n",
    "\n"
   ]
  },
  {
   "cell_type": "code",
   "execution_count": 253,
   "metadata": {
    "id": "mT-3ogKx2Hzl"
   },
   "outputs": [],
   "source": [
    "def repeatsong(n):\n",
    "    songlist = []\n",
    "    uniquesonglist = np.unique(songlist)\n",
    "    counter=0;\n",
    "    while len(uniquesonglist) == len(songlist):\n",
    "        songlist.append(np.random.randint(n))\n",
    "        uniquesonglist = np.unique(songlist)\n",
    "        counter=counter+1\n",
    "    return counter-1\n",
    "        "
   ]
  },
  {
   "cell_type": "code",
   "execution_count": 254,
   "metadata": {},
   "outputs": [],
   "source": [
    "narr=np.arange(1,50)\n",
    "meantotsong = np.zeros(len(narr))\n",
    "sigtotsong = np.zeros(len(narr))\n",
    "for n in narr:\n",
    "    repeat =500\n",
    "    totsongarr = np.zeros(repeat)\n",
    "    for r in range(repeat):\n",
    "        totsongarr[r] = repeatsong(n)\n",
    "        \n",
    "    meantotsong [n-1] =  np.mean(totsongarr)\n",
    "    sigtotsong [n-1]  = 2*np.std(totsongarr, ddof=1)/np.sqrt(repeat)"
   ]
  },
  {
   "cell_type": "code",
   "execution_count": 225,
   "metadata": {},
   "outputs": [],
   "source": [
    "# 1/N + 2*((N-1)/N*2/N) + 3*((N-1)/N*(N-2)/N*3/N) +  ... (N-1)/N*(N)\n",
    "\n",
    "def func2_avg(N):\n",
    "    sum1 = 1 ;\n",
    "    for i in np.arange(2,N+1):\n",
    "        sum1 = sum1 + (i-1)*i/N;\n",
    "    return sum1\n",
    "y =np.zeros(len(narr))\n",
    "for n in narr:\n",
    "    y[n-1] = func2_avg(n)\n"
   ]
  },
  {
   "cell_type": "code",
   "execution_count": 261,
   "metadata": {},
   "outputs": [
    {
     "data": {
      "text/plain": [
       "[<matplotlib.lines.Line2D at 0x243ab869250>]"
      ]
     },
     "execution_count": 261,
     "metadata": {},
     "output_type": "execute_result"
    },
    {
     "data": {
      "image/png": "[encoded data removed]",
      "text/plain": [
       "<Figure size 432x288 with 1 Axes>"
      ]
     },
     "metadata": {
      "needs_background": "light"
     },
     "output_type": "display_data"
    }
   ],
   "source": [
    "#plt.plot(narr,meantotsong)\n",
    "plt.errorbar(narr,meantotsong,yerr = sigtotsong,fmt ='o')\n",
    "plt.plot(narr,np.sqrt(np.pi*(narr-1)/2))"
   ]
  },
  {
   "cell_type": "markdown",
   "metadata": {
    "id": "SGw7QR3-2e_3"
   },
   "source": [
    "___\n",
    "\n",
    "**(c)** Suppose Spotify uses the following poor randomizer: it labels songs as $\\{0,1,2,\\ldots,n-1\\}$, and after playing a song $i$, it then either plays song $(i+1) mod(n)$ or $(i-1)mod(n)$ with probability $1/2$ (i.e., the next or previous song, imagining the songs to be in a ring with $n-1$ wrapping around to $1$). Simulate this randomizer for $n=20$, assuming you always start at song $1$, and find the histogram of the **last song to be played** for the first time using this shuffler.   \n",
    "\n",
    "___"
   ]
  },
  {
   "cell_type": "markdown",
   "metadata": {
    "id": "rbtZKA4I2wzN"
   },
   "source": [
    "## Ans."
   ]
  },
  {
   "cell_type": "code",
   "execution_count": 279,
   "metadata": {
    "id": "SdhOiOuZ2yO-"
   },
   "outputs": [],
   "source": [
    "def lastsong(n, start):\n",
    "    i=start;\n",
    "    songlist = [i]\n",
    "    uniquesonglist = np.unique(songlist)\n",
    "    counter=0;\n",
    "    while len(uniquesonglist) != n:\n",
    "    #for aaa in range(100):\n",
    "        r = np.random.rand()\n",
    "        if r<0.5:\n",
    "            i = (i+1) % n\n",
    "        else: \n",
    "            i = (i-1) % n\n",
    "        songlist.append(i)\n",
    "        uniquesonglist = np.unique(songlist)\n",
    "    return songlist[-1]"
   ]
  },
  {
   "cell_type": "code",
   "execution_count": 288,
   "metadata": {},
   "outputs": [],
   "source": [
    "repeats=1000;\n",
    "lasthist = np.zeros(repeats)\n",
    "for i in range(repeats):\n",
    "    lasthist[i] = lastsong(20,1)   "
   ]
  },
  {
   "cell_type": "code",
   "execution_count": 290,
   "metadata": {},
   "outputs": [
    {
     "data": {
      "image/png": "[encoded data removed]",
      "text/plain": [
       "<Figure size 432x288 with 1 Axes>"
      ]
     },
     "metadata": {
      "needs_background": "light"
     },
     "output_type": "display_data"
    }
   ],
   "source": [
    "plt.hist(lasthist, bins = np.arange(0,22)-0.5, density =True);"
   ]
  },
  {
   "cell_type": "markdown",
   "metadata": {
    "id": "RtMo9ndo3DbA"
   },
   "source": [
    "___\n",
    "\n",
    "**(d) (OPTIONAL)** For the above three questions, try and analytically derive the functions that you should get (and compare)"
   ]
  },
  {
   "cell_type": "markdown",
   "metadata": {
    "id": "Jq3RRJUG2z09"
   },
   "source": [
    "___\n",
    "___\n",
    "\n",
    "# Question 3: The gambler's ruin (20 points)\n",
    "\n",
    "The gambler's ruin is one of the most famous and widely studied models in stochastic processes. Imagine two gamblers $A$ and $B$ are playing a tournament, where they each start with $\\$a$ and $\\$b$ initially, and play a sequence of games, where each game is won by either player with probability $1/2$, with the winner giving $\\$1$ to the loser. Play goes on till one player runs out of money.\n",
    "\n",
    "___\n",
    "\n",
    "**(a)** Simulate this model to find the probability that player $A$ wins the overall tournament. Also, try and derive this analytically, and see how well the two match up.\n",
    "\n",
    "___"
   ]
  },
  {
   "cell_type": "markdown",
   "metadata": {
    "id": "Sor0QvV94lrw"
   },
   "source": [
    "## Ans."
   ]
  },
  {
   "cell_type": "code",
   "execution_count": 316,
   "metadata": {
    "id": "7QtijqJS4nsY"
   },
   "outputs": [],
   "source": [
    "def playerwin (a,b):\n",
    "    while (a>0 and b>0):\n",
    "        r = np.random.rand()\n",
    "        if r<0.5:\n",
    "            a = a-1\n",
    "            b = b+1\n",
    "        else:\n",
    "            b=b-1\n",
    "            a=a+1\n",
    "    if a==0:\n",
    "        rval = 0 # B wins\n",
    "    elif b==0:\n",
    "        rval = 1 # A wins\n",
    "    return rval        "
   ]
  },
  {
   "cell_type": "markdown",
   "metadata": {},
   "source": [
    "Analytical:\n",
    "\n",
    "probability that A wins = a/(a+b)"
   ]
  },
  {
   "cell_type": "code",
   "execution_count": 338,
   "metadata": {},
   "outputs": [],
   "source": [
    "a=10\n",
    "b=5\n",
    "repeat=1000\n",
    "rind = np.zeros(repeat)\n",
    "for r in range(repeat):\n",
    "    rind[r] = playerwin (a,b)"
   ]
  },
  {
   "cell_type": "code",
   "execution_count": 339,
   "metadata": {},
   "outputs": [
    {
     "data": {
      "text/plain": [
       "0.6666666666666666"
      ]
     },
     "execution_count": 339,
     "metadata": {},
     "output_type": "execute_result"
    }
   ],
   "source": [
    "a/(a+b)"
   ]
  },
  {
   "cell_type": "code",
   "execution_count": 340,
   "metadata": {},
   "outputs": [
    {
     "data": {
      "text/plain": [
       "0.661"
      ]
     },
     "execution_count": 340,
     "metadata": {},
     "output_type": "execute_result"
    }
   ],
   "source": [
    "sum(rind)/repeat"
   ]
  },
  {
   "cell_type": "markdown",
   "metadata": {
    "id": "yamKqPJe4syT"
   },
   "source": [
    "___\n",
    "**(b)** Another question we can ask is how long it takes for the tournament to end. To study this, simulate the gambler's ruin for a range of values of $a$ and $b$, and use this to try and guess the expected time to ruin.\n",
    "\n",
    "*Hint: Convince yourself that the function must be symmetric in $a$ and $b$, so you can assume $a\\leq b$. Try plotting the expected absorption times for selected values of $a$, while varying $b$.*\n",
    "\n",
    "___"
   ]
  },
  {
   "cell_type": "markdown",
   "metadata": {
    "id": "NOU2vkmw46k1"
   },
   "source": [
    "## Ans."
   ]
  },
  {
   "cell_type": "code",
   "execution_count": 379,
   "metadata": {
    "id": "nTPZla0S47HJ"
   },
   "outputs": [],
   "source": [
    "def gameduration (a,b):\n",
    "    counter=0\n",
    "    while (a>0 and b>0):\n",
    "        r = np.random.rand()\n",
    "        if r<0.5:\n",
    "            a = a-1\n",
    "            b = b+1\n",
    "        else:\n",
    "            b=b-1\n",
    "            a=a+1\n",
    "        counter=counter+1    \n",
    "\n",
    "    return counter    "
   ]
  },
  {
   "cell_type": "code",
   "execution_count": 522,
   "metadata": {},
   "outputs": [
    {
     "data": {
      "text/plain": [
       "<matplotlib.legend.Legend at 0x243ab90e760>"
      ]
     },
     "execution_count": 522,
     "metadata": {},
     "output_type": "execute_result"
    },
    {
     "data": {
      "image/png": "[encoded data removed]",
      "text/plain": [
       "<Figure size 432x288 with 1 Axes>"
      ]
     },
     "metadata": {
      "needs_background": "light"
     },
     "output_type": "display_data"
    }
   ],
   "source": [
    "spacing =5\n",
    "#color = plt.cm.rainbow(np.linspace(0, 1, spacing))\n",
    "color = iter(plt.cm.rainbow(np.linspace(0, 1, spacing)))\n",
    "barr = np.floor(np.linspace(5,20,spacing))\n",
    "for b in barr:\n",
    "    col = next(color)\n",
    "    aarr = np.floor(np.linspace(1,b,3))\n",
    "    repeat=1000\n",
    "    garr = np.zeros([len(aarr),repeat])\n",
    "    c = 0;\n",
    "    for a in aarr:\n",
    "        for r in range(repeat):\n",
    "            garr[c,r] = gameduration (a,b)\n",
    "        c=c+1    \n",
    "    plt.plot(aarr, np.mean(garr,axis=1), 'o', c=col,label = 'b='+ repr(b))\n",
    "    plt.plot(aarr, aarr*b, c=col)\n",
    "plt.legend()   \n"
   ]
  },
  {
   "cell_type": "code",
   "execution_count": 502,
   "metadata": {},
   "outputs": [
    {
     "data": {
      "text/plain": [
       "5.805"
      ]
     },
     "execution_count": 502,
     "metadata": {},
     "output_type": "execute_result"
    }
   ],
   "source": [
    "repeat=1000\n",
    "gsingarr = np.zeros(repeat)\n",
    "\n",
    "for r in range(repeat):\n",
    "    gsingarr[r] = gameduration (2,3)\n",
    "    \n",
    "np.mean(gsingarr)    "
   ]
  },
  {
   "cell_type": "code",
   "execution_count": 500,
   "metadata": {},
   "outputs": [],
   "source": [
    "def gamblepredab(a,b):\n",
    "    return (a*b)  "
   ]
  },
  {
   "cell_type": "code",
   "execution_count": 503,
   "metadata": {},
   "outputs": [
    {
     "data": {
      "text/plain": [
       "3"
      ]
     },
     "execution_count": 503,
     "metadata": {},
     "output_type": "execute_result"
    }
   ],
   "source": [
    "gamblepredab (1,3)"
   ]
  },
  {
   "cell_type": "markdown",
   "metadata": {
    "id": "YX0Mw-EVb4GE"
   },
   "source": [
    "___\n",
    "___\n",
    "\n",
    "# Question 4: Simulation assigments take forever (25 points)\n",
    "\n",
    "You are convinced that Simulation homeworks take the longest time compared to all other assignments, while Sid maintains that all assignment times are identically distributed. To decide this debate once and for all, you decide to record how long it takes you to do your assignment, and then survey your friends on how long it took them to do their last assignment until you find someone who took longer$\\ldots$"
   ]
  },
  {
   "cell_type": "markdown",
   "metadata": {
    "id": "Yjy3dHqpb4GF"
   },
   "source": [
    "___\n",
    "\n",
    "**(a)**\n",
    "Suppose Sid is right (!) and all assignment completion times are truly identically distributed. Formally suppose your own assignment takes time (in hours) distributed as $T_0\\sim Exp(0.5)$, and similarly the $i^{th}$ friend you survey also takes time $T_i\\sim Exp(0.5)$, independent of all other friends. Run 100 simulations and report a $95\\%$ CI for the expected number of friends you need to survey to find someone who takes longer.\n",
    "___\n"
   ]
  },
  {
   "cell_type": "markdown",
   "metadata": {
    "id": "wOQnI769b4GF"
   },
   "source": [
    "## Ans.\n"
   ]
  },
  {
   "cell_type": "code",
   "execution_count": 432,
   "metadata": {},
   "outputs": [],
   "source": [
    "def ithfriend():\n",
    "    t0= np.random.exponential(1/0.5,1)\n",
    "    tcurr = np.random.exponential(1/0.5,1)\n",
    "    counter=1;\n",
    "    while tcurr>t0:\n",
    "        tcurr= np.random.exponential(1/0.5,1)\n",
    "        counter = counter+1\n",
    "    return counter "
   ]
  },
  {
   "cell_type": "code",
   "execution_count": 450,
   "metadata": {},
   "outputs": [],
   "source": [
    "repeat =100;\n",
    "ifarr = np.zeros(repeat)\n",
    "for r in range(repeat):\n",
    "    ifarr[r] = ithfriend()"
   ]
  },
  {
   "cell_type": "code",
   "execution_count": 451,
   "metadata": {},
   "outputs": [
    {
     "name": "stdout",
     "output_type": "stream",
     "text": [
      "Mean number of friends to be surveyed = 7.73 +/- 6.9128400513651105\n"
     ]
    }
   ],
   "source": [
    "mm = np.mean(ifarr) \n",
    "ci =2*np.std(ifarr, ddof=1)/np.sqrt(repeat)\n",
    "\n",
    "print('Mean number of friends to be surveyed = ' + repr(mm) + ' +/- ' + repr(ci) )"
   ]
  },
  {
   "cell_type": "markdown",
   "metadata": {
    "id": "DRpHC9hbb4GF"
   },
   "source": [
    "___\n",
    "\n",
    "**(b)** You are concerned that the CI looks a little wide, so decide to do more replications to fix the problem. Repeat the above simulation with number of replications $n\\in\\{100,500,1000,1500,2000,2500,\\ldots,9500,10000\\}$, and plot the estimates and $95\\%$ CIs.\n",
    "___"
   ]
  },
  {
   "cell_type": "markdown",
   "metadata": {
    "id": "1khe5-56b4GF"
   },
   "source": [
    "## Ans.\n"
   ]
  },
  {
   "cell_type": "code",
   "execution_count": 523,
   "metadata": {
    "id": "00N4KuJqlEHf"
   },
   "outputs": [],
   "source": [
    "repeatarr = np.concatenate((np.array([100]),np.arange(500,10001,500)))\n",
    "mmarr = np.zeros(len(repeatarr))\n",
    "ciarr = np.zeros(len(repeatarr))\n",
    "c=0;\n",
    "for repeat in repeatarr:\n",
    "    ifarr = np.zeros(repeat)\n",
    "    for r in range(repeat):\n",
    "        ifarr[r] = ithfriend()\n",
    "    mmarr[c] = np.mean(ifarr) \n",
    "    ciarr[c] =2*np.std(ifarr, ddof=1)/np.sqrt(repeat)\n",
    "    c=c+1;"
   ]
  },
  {
   "cell_type": "code",
   "execution_count": 524,
   "metadata": {},
   "outputs": [
    {
     "data": {
      "text/plain": [
       "<ErrorbarContainer object of 3 artists>"
      ]
     },
     "execution_count": 524,
     "metadata": {},
     "output_type": "execute_result"
    },
    {
     "data": {
      "image/png": "[encoded data removed]",
      "text/plain": [
       "<Figure size 432x288 with 1 Axes>"
      ]
     },
     "metadata": {
      "needs_background": "light"
     },
     "output_type": "display_data"
    }
   ],
   "source": [
    "plt.errorbar(repeatarr,mmarr,yerr = ciarr,fmt ='o')\n"
   ]
  },
  {
   "cell_type": "markdown",
   "metadata": {
    "id": "9NNPvFQY0HM4"
   },
   "source": [
    "___\n",
    "**(c)** Hopefully you found the previous part a little surprising(?) Why is that the case? Well, this question highlights an important aspect of simulation that we have taken for granted in past problems -- in order to get an estimator for an unknown quantity, we *need that quantity to be finite*! Find an expression for computing the expected number of queries till we get one which is larger in the above setting, and argue that it is infinite.\n",
    "\n",
    "*Hint: Remember how we used linearity of expectation and indicator random variables before? Try doing the same, with indicator variables for the $i^{th}$ person (for each $i\\in\\{1,2,\\ldots\\}$) being the first person surveyed who took longer than you).*\n",
    "___\n"
   ]
  },
  {
   "cell_type": "markdown",
   "metadata": {
    "id": "g2AJuYY20z1W"
   },
   "source": [
    "## Ans. \n",
    "\n",
    "PDF: $f(x) =2 e^{-2x}$\n",
    "\n",
    "CDF: $F(x) =1- e^{-2x}$\n",
    "\n",
    "Say our initial exponential variable is $x_0$, probability that the next exponential variable is greater than $x_0$,\n",
    "\n",
    "$p= e^{-2x_0}$\n",
    "\n",
    "The expected value of the number of friends it takes to find someone with $x>x_0$:\n",
    "\n",
    "$E(p) = p + 2(1-p)p + 3(1-p)^2p + ... $\n",
    "\n",
    "As the above sum is diverging for p>0, we can say that the expected value is infinite!"
   ]
  },
  {
   "cell_type": "code",
   "execution_count": null,
   "metadata": {},
   "outputs": [],
   "source": []
  }
 ],
 "metadata": {
  "colab": {
   "provenance": []
  },
  "kernelspec": {
   "display_name": "Python 3",
   "language": "python",
   "name": "python3"
  },
  "language_info": {
   "codemirror_mode": {
    "name": "ipython",
    "version": 3
   },
   "file_extension": ".py",
   "mimetype": "text/x-python",
   "name": "python",
   "nbconvert_exporter": "python",
   "pygments_lexer": "ipython3",
   "version": "3.8.8"
  }
 },
 "nbformat": 4,
 "nbformat_minor": 4
}
